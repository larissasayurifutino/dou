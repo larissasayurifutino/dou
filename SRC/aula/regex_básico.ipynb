{
 "cells": [
  {
   "cell_type": "code",
   "execution_count": 1,
   "metadata": {},
   "outputs": [
    {
     "name": "stdout",
     "output_type": "stream",
     "text": [
      "Collecting bs4\n",
      "  Using cached bs4-0.0.1.tar.gz (1.1 kB)\n",
      "Collecting beautifulsoup4\n",
      "  Using cached beautifulsoup4-4.10.0-py3-none-any.whl (97 kB)\n",
      "Collecting soupsieve>1.2\n",
      "  Downloading soupsieve-2.3.1-py3-none-any.whl (37 kB)\n",
      "Building wheels for collected packages: bs4\n",
      "  Building wheel for bs4 (setup.py) ... \u001b[?25ldone\n",
      "\u001b[?25h  Created wheel for bs4: filename=bs4-0.0.1-py3-none-any.whl size=1271 sha256=07a8ae61c61820330ff7213f3752272804b5bfd2e072e3f6dc7315a373132e0a\n",
      "  Stored in directory: /home/larissa/.cache/pip/wheels/75/78/21/68b124549c9bdc94f822c02fb9aa3578a669843f9767776bca\n",
      "Successfully built bs4\n",
      "Installing collected packages: soupsieve, beautifulsoup4, bs4\n",
      "Successfully installed beautifulsoup4-4.10.0 bs4-0.0.1 soupsieve-2.3.1\n",
      "\u001b[31mERROR: Could not find a version that satisfies the requirement request (from versions: none)\u001b[0m\n",
      "\u001b[31mERROR: No matching distribution found for request\u001b[0m\n"
     ]
    }
   ],
   "source": [
    "!pip install bs4"
   ]
  },
  {
   "cell_type": "code",
   "execution_count": 3,
   "metadata": {},
   "outputs": [
    {
     "name": "stdout",
     "output_type": "stream",
     "text": [
      "Requirement already satisfied: requests in /home/larissa/anaconda3/envs/diario-uniao/lib/python3.8/site-packages (2.23.0)\r\n",
      "Requirement already satisfied: idna<3,>=2.5 in /home/larissa/anaconda3/envs/diario-uniao/lib/python3.8/site-packages (from requests) (2.10)\r\n",
      "Requirement already satisfied: chardet<4,>=3.0.2 in /home/larissa/anaconda3/envs/diario-uniao/lib/python3.8/site-packages (from requests) (3.0.4)\r\n",
      "Requirement already satisfied: certifi>=2017.4.17 in /home/larissa/anaconda3/envs/diario-uniao/lib/python3.8/site-packages (from requests) (2021.10.8)\r\n",
      "Requirement already satisfied: urllib3!=1.25.0,!=1.25.1,<1.26,>=1.21.1 in /home/larissa/anaconda3/envs/diario-uniao/lib/python3.8/site-packages (from requests) (1.25.11)\r\n"
     ]
    }
   ],
   "source": [
    "!pip install requests"
   ]
  },
  {
   "cell_type": "code",
   "execution_count": 4,
   "metadata": {
    "id": "Llbk1pLk4UDm"
   },
   "outputs": [],
   "source": [
    "import pandas as pd\n",
    "import re"
   ]
  },
  {
   "cell_type": "code",
   "execution_count": 5,
   "metadata": {},
   "outputs": [],
   "source": [
    "df = pd.read_json('result.json')"
   ]
  },
  {
   "cell_type": "code",
   "execution_count": 6,
   "metadata": {},
   "outputs": [
    {
     "data": {
      "text/html": [
       "<div>\n",
       "<style scoped>\n",
       "    .dataframe tbody tr th:only-of-type {\n",
       "        vertical-align: middle;\n",
       "    }\n",
       "\n",
       "    .dataframe tbody tr th {\n",
       "        vertical-align: top;\n",
       "    }\n",
       "\n",
       "    .dataframe thead th {\n",
       "        text-align: right;\n",
       "    }\n",
       "</style>\n",
       "<table border=\"1\" class=\"dataframe\">\n",
       "  <thead>\n",
       "    <tr style=\"text-align: right;\">\n",
       "      <th></th>\n",
       "      <th>numberPage</th>\n",
       "      <th>artType</th>\n",
       "      <th>title</th>\n",
       "      <th>paragraphs</th>\n",
       "      <th>url</th>\n",
       "    </tr>\n",
       "  </thead>\n",
       "  <tbody>\n",
       "    <tr>\n",
       "      <th>0</th>\n",
       "      <td>1</td>\n",
       "      <td>Atos do Poder Legislativo</td>\n",
       "      <td>LEI Nº 14.291, DE 3 DE JANEIRO DE 2022</td>\n",
       "      <td>Faço saber que o Congresso Nacional decreta e ...</td>\n",
       "      <td>https://www.in.gov.br/en/web/dou/-/lei-n-14.29...</td>\n",
       "    </tr>\n",
       "    <tr>\n",
       "      <th>1</th>\n",
       "      <td>1</td>\n",
       "      <td>Atos do Poder Legislativo</td>\n",
       "      <td>LEI Nº 14.289, DE 3 DE JANEIRO DE 2022</td>\n",
       "      <td>Faço saber que o Congresso Nacional decreta e ...</td>\n",
       "      <td>https://www.in.gov.br/en/web/dou/-/lei-n-14.28...</td>\n",
       "    </tr>\n",
       "    <tr>\n",
       "      <th>2</th>\n",
       "      <td>1</td>\n",
       "      <td>Atos do Poder Legislativo</td>\n",
       "      <td>LEI Nº 14.290, DE 3 DE JANEIRO DE 2022</td>\n",
       "      <td>Faço saber que o Congresso Nacional decreta e ...</td>\n",
       "      <td>https://www.in.gov.br/en/web/dou/-/lei-n-14.29...</td>\n",
       "    </tr>\n",
       "    <tr>\n",
       "      <th>3</th>\n",
       "      <td>2</td>\n",
       "      <td>Atos do Poder Legislativo</td>\n",
       "      <td>LEI Nº 14.292, DE 3 DE JANEIRO DE 2022</td>\n",
       "      <td>Faço saber que o Congresso Nacional decreta e ...</td>\n",
       "      <td>https://www.in.gov.br/en/web/dou/-/lei-n-14.29...</td>\n",
       "    </tr>\n",
       "    <tr>\n",
       "      <th>4</th>\n",
       "      <td>3</td>\n",
       "      <td>Atos do Poder Executivo</td>\n",
       "      <td>DECRETO Nº 10.927, DE 3 DE JANEIRO DE 2022</td>\n",
       "      <td>, no uso da atribuição que lhe confere o art. ...</td>\n",
       "      <td>https://www.in.gov.br/en/web/dou/-/decreto-n-1...</td>\n",
       "    </tr>\n",
       "    <tr>\n",
       "      <th>...</th>\n",
       "      <td>...</td>\n",
       "      <td>...</td>\n",
       "      <td>...</td>\n",
       "      <td>...</td>\n",
       "      <td>...</td>\n",
       "    </tr>\n",
       "    <tr>\n",
       "      <th>207</th>\n",
       "      <td>257</td>\n",
       "      <td>Entidades de Fiscalização do Exercício das Pro...</td>\n",
       "      <td>RESOLUÇÃO CFFa Nº 646, de 29 de dezembro de 2021</td>\n",
       "      <td>A diretoria do Conselho Federal de Fonoaudiolo...</td>\n",
       "      <td>https://www.in.gov.br/en/web/dou/-/resolucao-c...</td>\n",
       "    </tr>\n",
       "    <tr>\n",
       "      <th>208</th>\n",
       "      <td>257</td>\n",
       "      <td>Entidades de Fiscalização do Exercício das Pro...</td>\n",
       "      <td>RESOLUÇÃO CFFa Nº 645, DE 11 DE DEZEMBRO DE 2021</td>\n",
       "      <td>O Conselho Federal de Fonoaudiologia, no uso d...</td>\n",
       "      <td>https://www.in.gov.br/en/web/dou/-/resolucao-c...</td>\n",
       "    </tr>\n",
       "    <tr>\n",
       "      <th>209</th>\n",
       "      <td>257</td>\n",
       "      <td>Entidades de Fiscalização do Exercício das Pro...</td>\n",
       "      <td>RESOLUÇÃO Nº CFO-241, de 3 de janeiro de 2022</td>\n",
       "      <td>O Conselho Federal de Odontologia, no uso das ...</td>\n",
       "      <td>https://www.in.gov.br/en/web/dou/-/resolucao-n...</td>\n",
       "    </tr>\n",
       "    <tr>\n",
       "      <th>210</th>\n",
       "      <td>258</td>\n",
       "      <td>Entidades de Fiscalização do Exercício das Pro...</td>\n",
       "      <td>RESOLUÇÃO CREFITO-7 Nº 17, de 21 de dezembro d...</td>\n",
       "      <td>O Conselho Regional de Fisioterapia e Terapia ...</td>\n",
       "      <td>https://www.in.gov.br/en/web/dou/-/resolucao-c...</td>\n",
       "    </tr>\n",
       "    <tr>\n",
       "      <th>211</th>\n",
       "      <td>258</td>\n",
       "      <td>Entidades de Fiscalização do Exercício das Pro...</td>\n",
       "      <td>Resolução nº 201/CREF3/SC, de 3 de janeiro de ...</td>\n",
       "      <td>O PRESIDENTE DO CONSELHO REGIONAL DE EDUCAÇÃO ...</td>\n",
       "      <td>https://www.in.gov.br/en/web/dou/-/resolucao-n...</td>\n",
       "    </tr>\n",
       "  </tbody>\n",
       "</table>\n",
       "<p>212 rows × 5 columns</p>\n",
       "</div>"
      ],
      "text/plain": [
       "     numberPage                                            artType  \\\n",
       "0             1                          Atos do Poder Legislativo   \n",
       "1             1                          Atos do Poder Legislativo   \n",
       "2             1                          Atos do Poder Legislativo   \n",
       "3             2                          Atos do Poder Legislativo   \n",
       "4             3                            Atos do Poder Executivo   \n",
       "..          ...                                                ...   \n",
       "207         257  Entidades de Fiscalização do Exercício das Pro...   \n",
       "208         257  Entidades de Fiscalização do Exercício das Pro...   \n",
       "209         257  Entidades de Fiscalização do Exercício das Pro...   \n",
       "210         258  Entidades de Fiscalização do Exercício das Pro...   \n",
       "211         258  Entidades de Fiscalização do Exercício das Pro...   \n",
       "\n",
       "                                                 title  \\\n",
       "0               LEI Nº 14.291, DE 3 DE JANEIRO DE 2022   \n",
       "1               LEI Nº 14.289, DE 3 DE JANEIRO DE 2022   \n",
       "2               LEI Nº 14.290, DE 3 DE JANEIRO DE 2022   \n",
       "3               LEI Nº 14.292, DE 3 DE JANEIRO DE 2022   \n",
       "4           DECRETO Nº 10.927, DE 3 DE JANEIRO DE 2022   \n",
       "..                                                 ...   \n",
       "207   RESOLUÇÃO CFFa Nº 646, de 29 de dezembro de 2021   \n",
       "208   RESOLUÇÃO CFFa Nº 645, DE 11 DE DEZEMBRO DE 2021   \n",
       "209      RESOLUÇÃO Nº CFO-241, de 3 de janeiro de 2022   \n",
       "210  RESOLUÇÃO CREFITO-7 Nº 17, de 21 de dezembro d...   \n",
       "211  Resolução nº 201/CREF3/SC, de 3 de janeiro de ...   \n",
       "\n",
       "                                            paragraphs  \\\n",
       "0    Faço saber que o Congresso Nacional decreta e ...   \n",
       "1    Faço saber que o Congresso Nacional decreta e ...   \n",
       "2    Faço saber que o Congresso Nacional decreta e ...   \n",
       "3    Faço saber que o Congresso Nacional decreta e ...   \n",
       "4    , no uso da atribuição que lhe confere o art. ...   \n",
       "..                                                 ...   \n",
       "207  A diretoria do Conselho Federal de Fonoaudiolo...   \n",
       "208  O Conselho Federal de Fonoaudiologia, no uso d...   \n",
       "209  O Conselho Federal de Odontologia, no uso das ...   \n",
       "210  O Conselho Regional de Fisioterapia e Terapia ...   \n",
       "211  O PRESIDENTE DO CONSELHO REGIONAL DE EDUCAÇÃO ...   \n",
       "\n",
       "                                                   url  \n",
       "0    https://www.in.gov.br/en/web/dou/-/lei-n-14.29...  \n",
       "1    https://www.in.gov.br/en/web/dou/-/lei-n-14.28...  \n",
       "2    https://www.in.gov.br/en/web/dou/-/lei-n-14.29...  \n",
       "3    https://www.in.gov.br/en/web/dou/-/lei-n-14.29...  \n",
       "4    https://www.in.gov.br/en/web/dou/-/decreto-n-1...  \n",
       "..                                                 ...  \n",
       "207  https://www.in.gov.br/en/web/dou/-/resolucao-c...  \n",
       "208  https://www.in.gov.br/en/web/dou/-/resolucao-c...  \n",
       "209  https://www.in.gov.br/en/web/dou/-/resolucao-n...  \n",
       "210  https://www.in.gov.br/en/web/dou/-/resolucao-c...  \n",
       "211  https://www.in.gov.br/en/web/dou/-/resolucao-n...  \n",
       "\n",
       "[212 rows x 5 columns]"
      ]
     },
     "execution_count": 6,
     "metadata": {},
     "output_type": "execute_result"
    }
   ],
   "source": [
    "df\n",
    "\n",
    "# Escolher 1 das secoes 1, 2, 3\n"
   ]
  },
  {
   "cell_type": "code",
   "execution_count": 7,
   "metadata": {},
   "outputs": [
    {
     "data": {
      "text/plain": [
       "'Faço saber que o Congresso Nacional decreta e eu sanciono a seguinte Lei:\\nArt. 1º\\nEsta Lei dispõe sobre a obrigatoriedade de preservação do sigilo sobre a condição de pessoa que vive com infecção pelos vírus da imunodeficiência humana (HIV) e das hepatites crônicas (HBV e HCV) e de pessoa com hanseníase e com tuberculose, nos casos que estabelece.\\nArt. 2º É vedada a divulgação, pelos agentes públicos ou privados, de informações que permitam a identificação da condição de pessoa que vive com infecção pelos vírus da imunodeficiência humana (HIV) e das hepatites crônicas (HBV e HCV) e de pessoa com hanseníase e com tuberculose, nos seguintes âmbitos:\\nI - serviços de saúde;\\nII - estabelecimentos de ensino;\\nIII - locais de trabalho;\\nIV - administração pública;\\nV - segurança pública;\\nVI - processos judiciais;\\nVII - mídia escrita e audiovisual.\\nParágrafo único. O sigilo profissional sobre a condição de pessoa que vive com infecção pelos vírus da imunodeficiência humana (HIV) e das hepatites crônicas (HBV e HCV) e de pessoa com hanseníase e com tuberculose somente poderá ser quebrado nos casos determinados por lei, por justa causa ou por autorização expressa da pessoa acometida ou, quando se tratar de criança, de seu responsável legal, mediante assinatura de termo de consentimento informado, observado o disposto no art. 11 da Lei nº 13.709, de 14 de agosto de 2018 (Lei Geral de Proteção de Dados Pessoais - LGPD).\\nArt. 3º Os serviços de saúde, públicos ou privados, e as operadoras de planos privados de assistência à saúde estão obrigados a proteger as informações relativas a pessoas que vivem com infecção pelos vírus da imunodeficiência humana (HIV) e das hepatites crônicas (HBV e HCV) e a pessoas com hanseníase e com tuberculose, bem como a garantir o sigilo das informações que eventualmente permitam a identificação dessa condição.\\n§ 1º A obrigatoriedade de preservação do sigilo sobre a condição de pessoa que vive com infecção pelos vírus da imunodeficiência humana (HIV) e das hepatites crônicas (HBV e HCV) e de pessoa com hanseníase e com tuberculose usuárias dos serviços de saúde recai sobre todos os profissionais de saúde e os trabalhadores da área de saúde.\\n§ 2º O atendimento nos serviços de saúde, públicos ou privados, será organizado de forma a não permitir a identificação, pelo público em geral, da condição de pessoa que vive com infecção pelos vírus da imunodeficiência humana (HIV) e das hepatites crônicas (HBV e HCV) e de pessoa com hanseníase e com tuberculose.\\nArt. 4º O\\ndo art. 10 da Lei nº 6.259, de 30 de outubro de 1975, passa a vigorar com a seguinte redação:\\n\"Art. 10. A notificação compulsória de casos de doenças e de agravos à saúde tem caráter sigiloso, o qual deve ser observado pelos profissionais especificados no\\ndo art. 8º desta Lei que tenham procedido à notificação, pelas autoridades sanitárias que a tenham recebido e por todos os trabalhadores ou servidores que lidam com dados da notificação.\\n.................................................................................................................................\"(NR)\\nArt. 5º Nos inquéritos ou nos processos judiciais que tenham como parte pessoa que vive com infecção pelos vírus da imunodeficiência humana (HIV) e das hepatites crônicas (HBV e HCV) e pessoa com hanseníase e com tuberculose, devem ser providos os meios necessários para garantir o sigilo da informação sobre essa condição.\\n§ 1º Qualquer divulgação a respeito de fato objeto de investigação ou de julgamento não poderá fornecer informações que permitam a identificação de pessoa que vive com infecção pelos vírus da imunodeficiência humana (HIV) e das hepatites crônicas (HBV e HCV) e de pessoa com hanseníase e com tuberculose.\\n§ 2º Em julgamento que envolver pessoa que vive com infecção pelos vírus da imunodeficiência humana (HIV) e das hepatites crônicas (HBV e HCV) e pessoa com hanseníase e com tuberculose no qual não seja possível manter o sigilo sobre essa condição, o acesso às sessões somente será permitido às partes diretamente interessadas e aos respectivos advogados.\\nArt. 6º O descumprimento das disposições desta Lei sujeita o agente público ou privado infrator às sanções previstas no art. 52 da Lei nº 13.709, de 14 de agosto de 2018, bem como às demais sanções administrativas cabíveis, e obriga-o a indenizar a vítima por danos materiais e morais, nos termos do art. 927 da Lei nº 10.406, de 10 de janeiro de 2002 (Código Civil).\\nParágrafo único. Nas situações em que for divulgada informação sobre a condição de pessoa que vive com infecção pelos vírus da imunodeficiência humana (HIV) e das hepatites crônicas (HBV e HCV) e de pessoa com hanseníase e com tuberculose por agentes que, por força de sua profissão ou do cargo que ocupam, estão obrigados à preservação do sigilo, e essa divulgação ficar caracterizada como intencional e com o intuito de causar dano ou ofensa, aplicar-se-ão em dobro:\\nI - as penas pecuniárias ou de suspensão de atividades previstas no art. 52 da Lei nº 13.709, de 14 de agosto de 2018;\\nII - as indenizações pelos danos morais causados à vítima.\\nArt. 7º Esta Lei entra em vigor na data de sua publicação.\\nBrasília, 3 de janeiro de 2022; 201º da Independência e 134º da República.'"
      ]
     },
     "execution_count": 7,
     "metadata": {},
     "output_type": "execute_result"
    }
   ],
   "source": [
    "df['paragraphs'].iloc[1]"
   ]
  },
  {
   "cell_type": "markdown",
   "metadata": {
    "id": "b0DXnZcvH158"
   },
   "source": [
    "| Método | Descrição  |\n",
    "|:----------:|:------------------:|\n",
    "| re.match()    | Determina se a expressão regular combina com o início da string. Retorna a posição da string buscada. |\n",
    "| re.search()   | Varre toda a string, procurando o primeiro local onde esta expressão regular tem correspondência. Retorna a posição da string buscada. |\n",
    "| re.findall()  | Encontra todas as substrings onde a expressão regular corresponde, e as retorna como uma lista. Retrona uma lista com as strings encontradas. |\n",
    "| re.finditer() | Encontra todas as substrings onde a expressão regular corresponde, e as retorna como um iterador. |\n",
    "| re.sub() | Encontra o padrão e faz substituições |"
   ]
  },
  {
   "cell_type": "markdown",
   "metadata": {},
   "source": [
    "# Expressoes de filtragem"
   ]
  },
  {
   "cell_type": "markdown",
   "metadata": {},
   "source": [
    "| Padrão | Significado |\n",
    "|:------:|:-------:|\n",
    "| ^ | Nega a expressão OU marca o início de uma string |\n",
    "| $ | Marca o final de uma string |\n",
    "| + | Prolonga o caractere anterior |\n",
    "| * | Prolonga o caractere anterior, mas ele também pode não existir |\n",
    "| ? | Diz que há dúvida se o caractere anterior a ele existe |\n",
    "| . | Substitui qualquer caractere (apenas um) |\n",
    "| [A-Z] | Procura qualquer caractere maiúsculo de **A** a **Z** |\n",
    "| [a-z] | Procura qualquer caractere minúsculo de **a** a **z** |\n",
    "| [0-9] | Procura qualquer dígito de **1** a **9** |\n",
    "| [125] | Procura os dígitos **1**, **2** ou **5** |\n",
    "| [^0-9] | O **^** nega a expressão a seguir, logo, procura tudo que não for número.\n",
    "| [abc] | Procura os caracteres **a**, **b** ou **c** |\n",
    "| [^A-Z] | Procura tudo que não for letra maiúscula |\n",
    "| [a-zA-Z] | Procura tudo que for letra |\n",
    "| \\s | Procura espaços |\n",
    "| \\w | Procura caracteres, exceto os especiais |\n",
    "| \\d | Também procura qualquer dígito de **1** a **9** |"
   ]
  },
  {
   "cell_type": "markdown",
   "metadata": {
    "id": "bSL5cVZaJ2pj"
   },
   "source": [
    "## Básico\n",
    "### Match"
   ]
  },
  {
   "cell_type": "code",
   "execution_count": 8,
   "metadata": {
    "id": "CdyGJzVfJ9Pk"
   },
   "outputs": [],
   "source": [
    "string = \"frase que será analisada pelo regex porque regex é legal e útil\""
   ]
  },
  {
   "cell_type": "code",
   "execution_count": 9,
   "metadata": {
    "colab": {
     "base_uri": "https://localhost:8080/"
    },
    "id": "kYptKQRoJVZw",
    "outputId": "bc54471a-6693-418b-c35c-452e1e203236"
   },
   "outputs": [
    {
     "name": "stdout",
     "output_type": "stream",
     "text": [
      "['301.568.345-88']\n"
     ]
    }
   ],
   "source": [
    "def get_cpfs(text):\n",
    "\n",
    "    pattern = r\"\\d{3}\\.\\d{3}\\.\\d{3}-\\d{2}\"\n",
    "    \n",
    "    cpf = re.findall(pattern, text)\n",
    "    if cpf:\n",
    "        return cpf\n",
    "    return None\n",
    "        \n",
    "\n",
    "\n",
    "text = 'Maria chica da Rocinha 301.568.345-88'\n",
    "cpf = get_cpfs(text)\n",
    "if cpf:\n",
    "    print(cpf)\n",
    "\n"
   ]
  },
  {
   "cell_type": "code",
   "execution_count": 10,
   "metadata": {},
   "outputs": [
    {
     "name": "stdout",
     "output_type": "stream",
     "text": [
      "achou\n",
      "['301.568.345-88']\n"
     ]
    }
   ],
   "source": [
    "match = re.match('Maria', text)\n",
    "if match:\n",
    "    print('achou')\n",
    "    cpf = get_cpfs(text)\n",
    "    if cpf:\n",
    "        print(cpf)\n",
    "\n",
    "else:\n",
    "    print('nao achou')\n"
   ]
  },
  {
   "cell_type": "markdown",
   "metadata": {
    "id": "MJNZBPpPJ4gT"
   },
   "source": [
    "### Search"
   ]
  },
  {
   "cell_type": "code",
   "execution_count": 11,
   "metadata": {
    "colab": {
     "base_uri": "https://localhost:8080/"
    },
    "id": "YIGJaRoPKEw3",
    "outputId": "7f26bb8f-e101-4f7a-fe15-da7adcf914e3"
   },
   "outputs": [
    {
     "data": {
      "text/plain": [
       "<re.Match object; span=(0, 5), match='frase'>"
      ]
     },
     "execution_count": 11,
     "metadata": {},
     "output_type": "execute_result"
    }
   ],
   "source": [
    "re.search('frase', string)"
   ]
  },
  {
   "cell_type": "code",
   "execution_count": 12,
   "metadata": {
    "colab": {
     "base_uri": "https://localhost:8080/"
    },
    "id": "EAoexfdOKEw6",
    "outputId": "a7ed2558-75bc-4e59-b7de-b9c0cdcb5ed1"
   },
   "outputs": [
    {
     "data": {
      "text/plain": [
       "<re.Match object; span=(30, 35), match='regex'>"
      ]
     },
     "execution_count": 12,
     "metadata": {},
     "output_type": "execute_result"
    }
   ],
   "source": [
    "re.search('regex', string)"
   ]
  },
  {
   "cell_type": "code",
   "execution_count": 14,
   "metadata": {},
   "outputs": [
    {
     "name": "stdout",
     "output_type": "stream",
     "text": [
      "encontrou\n"
     ]
    }
   ],
   "source": [
    "import re\n",
    "\n",
    "pattern = '^a...s$'\n",
    "test_string = 'abyss'\n",
    "result = re.match(pattern, test_string)\n",
    "\n",
    "if result:\n",
    "    print(\"encontrou\")\n",
    "else:\n",
    "    print(\"nao encontrou\")\n"
   ]
  },
  {
   "cell_type": "code",
   "execution_count": 15,
   "metadata": {},
   "outputs": [
    {
     "data": {
      "text/plain": [
       "'1235786375935'"
      ]
     },
     "execution_count": 15,
     "metadata": {},
     "output_type": "execute_result"
    }
   ],
   "source": [
    "import re\n",
    "\n",
    "def regex(string):\n",
    "    \"\"\"This function returns at least one matching digit.\"\"\"\n",
    "    pattern = re.compile(r\"\\d{1,}\") # For brevity, this is the same as r\"\\d+\"\n",
    "    result = pattern.match(string)\n",
    "    if result:\n",
    "        return  result.group()\n",
    "    return None\n",
    "\n",
    "\n",
    "regex(\"1235786375935JOÃO CARLOS DE ANDRADE UZÊDA ACCIOLY\")"
   ]
  },
  {
   "cell_type": "code",
   "execution_count": 16,
   "metadata": {},
   "outputs": [
    {
     "name": "stdout",
     "output_type": "stream",
     "text": [
      "documento\n"
     ]
    }
   ],
   "source": [
    "import re\n",
    "\n",
    "string = \"\\ndocumento\"\n",
    "result = re.search(r\"\\w+\", string, re.MULTILINE)\n",
    "print (result.group()) "
   ]
  },
  {
   "cell_type": "code",
   "execution_count": 17,
   "metadata": {},
   "outputs": [],
   "source": [
    "text = \"\"\"Alpha  \n",
    "Beta \n",
    "Gamma\n",
    "Delta\"\"\""
   ]
  },
  {
   "cell_type": "code",
   "execution_count": 18,
   "metadata": {},
   "outputs": [
    {
     "name": "stdout",
     "output_type": "stream",
     "text": [
      "['Alpha  ', 'Beta ', 'Gamma', 'Delta']\n"
     ]
    }
   ],
   "source": [
    "import re\n",
    "\n",
    "results = re.split(r\"\\n+\", text)\n",
    "print(results)"
   ]
  },
  {
   "cell_type": "code",
   "execution_count": 19,
   "metadata": {},
   "outputs": [
    {
     "name": "stdout",
     "output_type": "stream",
     "text": [
      "Olha onde posso inserir esse caracter , e aqui , tambem\n"
     ]
    }
   ],
   "source": [
    "import re\n",
    "\n",
    "pattern = re.compile(r\"[0-9]+\")\n",
    "result = pattern.sub(\",\", \"Olha onde posso inserir esse caracter 1 e aqui 2 tambem\")\n",
    "print(result)"
   ]
  },
  {
   "cell_type": "code",
   "execution_count": 95,
   "metadata": {},
   "outputs": [],
   "source": [
    "df_ = df['paragraphs'].iloc[14]"
   ]
  },
  {
   "cell_type": "code",
   "execution_count": 96,
   "metadata": {},
   "outputs": [
    {
     "data": {
      "text/plain": [
       "'O SECRETÁRIO DE EMPREENDEDORISMO E INOVAÇÃO DO MINISTÉRIO DA CIÊNCIA, TECNOLOGIA E INOVAÇÕES SUBSTITUTO, no uso da atribuição conferida pelo parágrafo único do art. 6º do Decreto nº 10.356, de 20 de maio de 2020, tendo em vista o disposto nos arts. 4º e 9º deste Decreto, e considerando o que consta no Processo MCTI nº 01250.058099/2019-78, de 12 de novembro de 2019, resolve:\\nArt. 1º Habilitar a pessoa jurídica MELHORETEC TECNOLOGIA - VENDA E LOCACAO DE EQUIPAMENTOS LTDA., inscrita no Cadastro Nacional da Pessoa Jurídica do Ministério da Economia - CNPJ/ME sob o nº 23.238.356/0001-63, à fruição do crédito financeiro de que tratam o art. 4º da Lei nº 8.248, de 23 de outubro de 1991, os arts. 2º,\\xa03º\\xa0 e 4º da Lei nº 13.969, de 26 de dezembro de 2019, e o Decreto nº 10.356, de 20 de maio de 2020.\\n§ 1º Cadastrar o estabelecimento fabril da pessoa jurídica identificada no\\xa0caput, CNPJ/ME nº 23.238.356/0001-63, responsável pela fabricação do(s) seguinte(s) bem(ns) de tecnologias da informação e comunicação:\\nI - Terminal de autoatendimento para uso não bancário e\\nII -\\xa0Terminal de auto-atendimento para compra de mercadorias em estabelecimentos comerciais (\"self checkout\")\\n§ 2º O bem e os respectivos modelos devem cumprir o processo produtivo básico.\\n§ 3º Os modelos devem ser cadastrados pela pessoa jurídica e constar no processo MCTI nº 01250.058099/2019-78, de 12\\xa0de novembro\\xa0de 2019.\\nArt. 2º A pessoa jurídica habilitada fará jus ao crédito financeiro de que trata a Seção I do Capítulo V do Decreto nº 10.356, de 2020, que\\xa0vigorará até 31 de dezembro de 2029.\\nParágrafo único. A pessoa jurídica habilitada, além de cumprir o processo produtivo básico, deverá investir, anualmente, no País, em atividades de pesquisa, desenvolvimento e inovação, no setor de tecnologias da informação e comunicação, o percentual mínimo de 4% sobre a base de cálculo formada pelo faturamento bruto no mercado interno, decorrente da comercialização do(s) bem(ns) relacionado(s) no art. 1º.\\nArt. 3º O crédito financeiro decorrente dos benefícios referidos no art. 4º da Lei nº 8.248, de 1991, constitui, para todos os efeitos, compensação integral em substituição aos incentivos extintos pela revogação dos §§ 1º-A, 1º-D, 1º-E, 1º-F, 5º e 7º do art. 4º da referida Lei.\\nArt. 4º Em virtude da desistência nos autos do pleito de habilitação definitiva dos modelos do produto \"Facilit Express\",\\xa0\"Facilit Display\",\\xa0\"Ful\",\\xa0\"Organização de Fila\",\\xa0\"Informações; \"Pesquisa\",\\xa0\"Estacionamento\",\\xa0\"Pedidos\",\\xa0\"Restaurante\",\\xa0\"Bares\",\\xa0\"Eventos\",\\xa0\"Recepção\",\\xa0\"Machine Varejo\",\\xa0\"Machine Food Service\" e\\xa0\"Machine Refrigerado\"\\xa0que constavam da habilitação provisória concedida pela Portaria SDCI/ME nº 9.741, de 7 de\\xa0novembro de 2019, caso a empresa tenha usufruído de benefícios concedidos para esses modelos, deverá recolher, no\\xa0prazo de dez dias, os tributos relativos ao benefício fiscal fruído, com os acréscimos legais e penalidades aplicáveis para recolhimento espontâneo, assim como pagar o crédito financeiro ressarcido ou utilizado como objeto de compensação de débitos tributários, inclusive os juros e multas, na forma da lei.\\nArt. 5º Esta habilitação poderá ser suspensa ou cancelada, a qualquer tempo, sem prejuízo do\\xa0ressarcimento previsto no art. 9º da Lei nº 8.248, de 1991, no art. 9º da Lei nº 13.969, de 2019, e no Capítulo VI do Decreto nº 10.356, de 2020, caso a empresa beneficiária deixe de atender ou de cumprir qualquer das condições estabelecidas no referido Decreto.\\nArt. 6º Esta Portaria entra em vigor na data de sua publicação.'"
      ]
     },
     "execution_count": 96,
     "metadata": {},
     "output_type": "execute_result"
    }
   ],
   "source": [
    "df_"
   ]
  },
  {
   "cell_type": "code",
   "execution_count": 76,
   "metadata": {},
   "outputs": [],
   "source": [
    "def get_spaces(df_):\n",
    "    \n",
    "    results = re.split(r\"\\n+\", df_)\n",
    "    return results"
   ]
  },
  {
   "cell_type": "code",
   "execution_count": 77,
   "metadata": {},
   "outputs": [],
   "source": [
    "df__ = get_spaces(df_)"
   ]
  },
  {
   "cell_type": "code",
   "execution_count": 78,
   "metadata": {},
   "outputs": [
    {
     "data": {
      "text/plain": [
       "['no uso das atribuições que lhe confere o art. 5º do Anexo I ao Decreto nº 9.678, de 2 de janeiro de 2019, e tendo em vista o que dispõe o Decreto nº 1.590, de 10 de agosto de 1995, a Instrução Normativa da Secretaria de Gestão e Desempenho de Pessoal da Secretaria Especial de Desburocratização, Gestão e Governo Digital do Ministério da Economia (SGP/SEDGGD/ME) nº 65, de 30 de julho de 2020, e a Portaria da Secretaria-Geral da Presidência da República (SG/PR) nº 121, de 28 de outubro de 2021, resolve:',\n",
       " 'Art. 1º Fica instituído o Programa de Gestão da Secretaria-Executiva da Casa Civil da Presidência da República, nos termos da Portaria da Casa Civil da Presidência da República (CC/PR) nº 659, de 8 de novembro de 2021.',\n",
       " 'Art. 2º O Programa de Gestão da Secretaria-Executiva observará as orientações, os critérios e os procedimentos gerais estabelecidos na Instrução Normativa SGP/SEDGGD/ME nº 65, de 30 de julho de 2020, e os procedimentos estabelecidos nesta Portaria.',\n",
       " 'Art. 3º São resultados e benefícios esperados do Programa de Gestão da Secretaria-Executiva:',\n",
       " 'I - promover a produtividade e a qualidade das entregas;',\n",
       " 'II - contribuir para a otimização dos recursos;',\n",
       " 'III - melhorar a qualidade de vida e o bem-estar dos servidores;',\n",
       " 'IV - contribuir para a atração, retenção e desenvolvimento de servidores;',\n",
       " 'V - contribuir para a motivação e o comprometimento dos servidores;',\n",
       " 'VI - estimular o desenvolvimento do trabalho criativo, da inovação e da cultura de governo digital; e',\n",
       " 'VII - promover a cultura orientada a resultados.',\n",
       " 'Art. 4º As modalidades presencial e teletrabalho poderão ser adotadas no Programa de Gestão da Secretaria-Executiva, podendo o teletrabalho ser executado em regime integral ou parcial.',\n",
       " '§ 1º A modalidade e o regime de execução serão estabelecidos pela chefia imediata, em comum acordo com o participante, e submetidos à aprovação dos titulares das unidades de que trata o',\n",
       " 'do art. 5º.',\n",
       " '§ 2º A modalidade teletrabalho não poderá abranger atividades cuja natureza exija a presença física do participante na unidade, ou que sejam desenvolvidas por meio de trabalho externo.',\n",
       " '§ 3º No caso de regime de execução parcial da modalidade teletrabalho, deverão ser definidos dias apenas em teletrabalho e dias apenas em trabalho presencial, não podendo haver dias com regime parcialmente em uma forma ou outra.',\n",
       " '§ 4º Os participantes da modalidade teletrabalho, em regime de execução integral ou parcial, devem atender às convocações para comparecimento pessoal na unidade de lotação, observado o horário de expediente da Presidência da República.',\n",
       " '§ 5º As convocações devem ser realizadas com antecedência mínima de 15 (quinze) dias, podendo ser reduzida, excepcionalmente, quando houver interesse fundamentado da Administração, ou pendência que não possa ser solucionada por meios telemáticos ou informatizados.',\n",
       " 'Art. 5º Somente poderão participar do Programa de Gestão da Secretaria-Executiva os servidores e empregados públicos em exercício nas seguintes unidades:',\n",
       " 'I - Diretoria de Gestão da Informação; e',\n",
       " 'II - Coordenação-Geral de Modernização e Inovação da Diretoria de Governança, Inovação e Conformidade.',\n",
       " '§ 1º A seleção dos participantes para o Programa de Gestão da Secretaria-Executiva será realizada pelos titulares das unidades indicadas no',\n",
       " ', após manifestação da chefia imediata quanto à compatibilidade das atividades desenvolvidas pelo servidor com aquelas constantes da tabela de atividades.',\n",
       " '§ 2º A tabela de atividades seguirá a forma do Anexo III, considerando as faixas de complexidade estabelecidas no Anexo IV, bem como a forma de aplicação apresentada no Anexo V.',\n",
       " '§ 3º A tabela de atividades será divulgada no sítio eletrônico da Secretaria-Executiva da Casa Civil da Presidência da República.',\n",
       " '§ 4º A tabela de atividades será elaborada pelo titular das unidades de que trata o',\n",
       " ', com apoio da Diretoria de Inovação e Gestão Estratégica, e será aprovada pelo Secretário-Executivo.',\n",
       " '§ 5º Na tabela de atividades é vedada a inclusão de atividades cujos resultados não possam ser efetivamente mensurados.',\n",
       " '§ 6º O participante selecionado assinará Termo de Adesão, na forma do Anexo I, com a indicação da modalidade e do regime de execução acordados com a chefia imediata.',\n",
       " '§ 7º O Termo de Adesão deverá ser incluído no assentamento funcional do servidor.',\n",
       " 'Art. 6º O plano de trabalho será registrado pelo participante e aprovado pela chefia imediata no Sistema de Programas de Gestão da Presidência da República - PGPR.',\n",
       " '§ 1º Poderá ser pactuado mais de um plano de trabalho para o mês de competência.',\n",
       " '§ 2º Os planos de trabalho pactuados deverão observar o mês de competência vigente, de modo que as atividades a serem desempenhadas estejam compreendidas entre o primeiro e o último dia do respectivo mês.',\n",
       " '§ 3º O Termo de Ciência e Reponsabilidade, nos termos previstos no Anexo II, integra o plano de trabalho pactuado entre o participante e a chefia imediata.',\n",
       " '§ 4º A assinatura do Termo de Ciência e Responsabilidade será efetivada no PGPR.',\n",
       " '§ 5º A chefia imediata deverá aferir as entregas realizadas, mediante análise fundamentada no sistema PGPR, em até 40 (quarenta) dias, contados da data prevista para conclusão das entregas, quanto ao atingimento ou não das metas estipuladas.',\n",
       " '§ 6º O participante que for desligado da unidade de exercício, a pedido ou de ofício, deverá realizar suas entregas programadas para até o seu último dia de trabalho, cabendo à chefia imediata avaliar as entregas realizadas em até 5 (cinco) dias úteis contados da data de desligamento do participante.',\n",
       " 'Art. 7º O participante do programa de gestão que efetue viagem a serviço, no interesse da Administração, para outro ponto do território nacional ou para o exterior, fará jus a passagens e diárias destinadas a indenizar as parcelas de despesas extraordinárias com pousada, alimentação e locomoção urbana, utilizando-se sempre como ponto de referência Brasília, no Distrito Federal, para definição do valor do custeio.',\n",
       " '§ 1º A pedido do participante, a Presidência da República poderá emitir as passagens aéreas entre a localidade de domicílio permanente do participante, registrada em seus assentos funcionais, e o destino.',\n",
       " '§ 2º Na hipótese do § 1º, se a opção mais econômica for a emissão de passagens a partir de Brasília, o participante deverá ressarcir a Presidência da República o valor da diferença das passagens no prazo de 5 (cinco) dias a contar do término da viagem.',\n",
       " 'Art. 8º Caberá à Diretoria de Inovação e Gestão Estratégica coordenar o processo de atualização da Tabela de Atividades.',\n",
       " 'Parágrafo único. Caso as unidades organizacionais da Secretaria-Executiva identifiquem a necessidade de atualização da Tabela de Atividades, a proposição de atualização deve ser encaminhada à Diretoria de Inovação e Gestão Estratégica, acompanhada de justificativa fundamentada.',\n",
       " 'Art. 9º Caberá aos titulares das unidades indicadas no',\n",
       " 'do art. 5º apresentarem ao Secretário-Executivo, após decorridos 90 (noventa) dias do encerramento da fase de experiência-piloto e de ambientação do programa, proposta de otimização do espaço físico no âmbito das respectivas unidades, considerando o quantitativo de servidores em teletrabalho, seja em regime de execução integral ou parcial.',\n",
       " 'Parágrafo único. Os servidores em teletrabalho, em regime de execução parcial, deverão compartilhar, sempre que possível, os recursos físicos e tecnológicos disponibilizados para as suas unidades.',\n",
       " 'Art. 10. A Diretoria de Inovação e Gestão Estratégica poderá expedir instruções complementares sobre os procedimentos necessários ao cumprimento desta Portaria.',\n",
       " 'Art. 11. Os casos omissos em relação ao disposto nesta Portaria serão resolvidos pelo Secretário-Executivo com assessoramento técnico da Diretoria de Inovação e Gestão Estratégica, observados os atos normativos de competência da Secretaria Especial de Administração da Secretaria-Geral da Presidência da República.',\n",
       " 'Art. 12. Esta Portaria entra em vigor na data de sua publicação.',\n",
       " 'ANEXO I',\n",
       " 'TERMO DE ADESÃO AO PROGRAMA DE GESTÃO',\n",
       " '1. Identificação do Requerente',\n",
       " 'Nome do Servidor:',\n",
       " 'Matrícula PR:',\n",
       " 'Unidade de Exercício:',\n",
       " 'Diretoria:',\n",
       " 'Telefone:',\n",
       " 'E-mail pessoal:',\n",
       " 'E-mail institucional:',\n",
       " 'Modalidade: ( ) Presencial ( ) Teletrabalho',\n",
       " 'Regime de Execução do Teletrabalho: ( ) Teletrabalho integral',\n",
       " 'Regime de Execução do Teletrabalho: ( ) Teletrabalho parcial. Caso essa opção seja selecionada, informe a previsão de quantos dias úteis da semana a execução será em teletrabalho: ( ) 1 ( ) 2 ( ) 3 ( ) 4',\n",
       " '2. Manifestação do Requerente',\n",
       " 'Solicito autorização para participação no Programa de Gestão da Secretaria-Executiva, instituído por meio da Portaria SE/CC/PR nº 1, de 28 de dezembro de 2021.',\n",
       " '3. Identificação da Chefia Imediata',\n",
       " 'Nome da Chefia:',\n",
       " 'Telefone:',\n",
       " '4. Manifestação da Chefia Imediata',\n",
       " 'Declaro, para os devidos fins, que as atividades executadas pelo(a) servidor(a) supracitado(a) são compatíveis com àquelas constantes na Tabela de Atividades da Secretaria-Executiva da Casa Civil.',\n",
       " '5. Autorização do Titular da Unidade',\n",
       " '( ) Autorizo a participação do requerente no Programa de Gestão da Secretaria-Executiva da Casa Civil.',\n",
       " '( ) Não autorizo a participação do requerente no Programa de Gestão da Secretaria-Executiva da Casa Civil.',\n",
       " 'NOME DO PARTICIPANTE',\n",
       " 'NOME DA CHEFIA IMEDIATA',\n",
       " 'NOME DO TITULAR DA UNIDADE',\n",
       " 'ANEXO II',\n",
       " 'TERMO DE CIÊNCIA E RESPONSABILIDADE',\n",
       " 'Declaro que:',\n",
       " 'I. atendo às condições para participação no Programa de Gestão da Casa Civil, conforme a Instrução Normativa SGP/SEDGG/ME nº 65, de 30 de julho de 2020, bem como nos termos da Portaria CC/PR nº 659, de 8 de novembro de 2021, e das regras definidas nesta Portaria;',\n",
       " 'II. estou ciente do prazo de antecedência mínima de convocação de 15 (quinze) dias para comparecimento pessoal à unidade, podendo esse prazo ser reduzido, excepcionalmente, quando houver interesse fundamentado da Administração, ou pendencia que não possa ser solucionada por meios telemáticos ou informatizados\"',\n",
       " 'III. estou ciente de todas as minhas atribuições e responsabilidades previstas no art. 22 da Instrução Normativa SGP/SEDGGD/ME nº 65, de 2020;',\n",
       " 'IV. disponho de infraestrutura necessária para o exercício das minhas atribuições em teletrabalho, inclusive aquelas relacionadas à segurança da informação;',\n",
       " 'V. estou ciente de que a minha participação no Programa de Gestão da Casa Civil não constitui direito adquirido, podendo ser desligado nas condições estabelecidas no Capítulo III da Instrução Normativa SGP/SEDGGD/ME nº 65, de 2020;',\n",
       " 'VI. estou ciente quanto à vedação de pagamento das vantagens a que se referem os arts. 29 a 36 da Instrução Normativa SGP/SEDGGD/ME nº 65, de 2020;',\n",
       " 'VII. estou ciente quanto à vedação de utilização de terceiros para a execução dos trabalhos acordados como parte das metas;',\n",
       " 'VIII. estou ciente quanto ao dever de observar as disposições constantes da Lei nº 13.709, de 14 de agosto de 2018, a Lei Geral de Proteção de Dados Pessoais (LGPD), no que couber; e',\n",
       " 'XIX. estou ciente quanto às orientações da Portaria da Secretaria Especial de Desburocratização, Gestão e Governo Digital do Ministério da Economia (SEDGGD/ME) nº 15.543, de 2 de julho de 2020, que divulga o Manual de Conduta do Agente Público Civil do Poder Executivo Federal.',\n",
       " 'Com a assinatura deste formulário, o participante:',\n",
       " 'I - autoriza o fornecimento do número de telefone pessoal a pessoas que façam chamadas telefônicas para a sua unidade de exercício na Casa Civil, sem necessidade de avaliação, pelo atendente, a respeito da pertinência do fornecimento; e',\n",
       " 'II - autoriza o fornecimento do número de telefone pessoal a servidores em exercício na Casa Civil que indiquem necessidade de contato telefônico relacionado às suas atividades profissionais.',\n",
       " 'O participante compromete-se a manter-se operante, disponível e acessível pela Casa Civil, durante toda a jornada de teletrabalho, com acesso ao e-mail institucional e ao telefone celular, nos termos dos artigos 22 e 23 da Instrução Normativa SGP/SEDGGD/ME nº 65, de 2020.',\n",
       " 'Brasília, ____ de ____ de ____.',\n",
       " '__________________________________',\n",
       " 'ASSINATURA DO PARTICIPANTE',\n",
       " '____________________________________',\n",
       " 'ASSINATURA DA CHEFIA IMEDIATA',\n",
       " 'ANEXO III',\n",
       " 'TABELA DE ATIVIDADES',\n",
       " 'A- Número',\n",
       " 'B - Atividade',\n",
       " 'C - Produtos Esperados',\n",
       " 'D - Complexidade (1)',\n",
       " 'E - Tempo de Execução em Regime Presencial e/ou em Regime de Teletrabalho',\n",
       " '1',\n",
       " 'Assessoramento técnico e atendimento a demandas internas e externas/assistência a chefias e autoridades',\n",
       " 'Assessoramento realizado, demandas atendidas, documentos e materiais produzidos (briefings, apresentações, respostas às solicitações, inclusive dos órgãos de controle interno e externo, ou do Fala BR, entre outros documentos correlatos)',\n",
       " 'A - Z',\n",
       " '1 a 40 horas',\n",
       " '2',\n",
       " 'Elaboração/análise/revisão de documentos técnicos',\n",
       " 'Pareceres, notas técnicas, relatórios, notas informativas, cadernos de indicadores, apresentações e outros documentos afins elaborados',\n",
       " 'A - Z',\n",
       " '1 a 40 horas',\n",
       " '3',\n",
       " 'Elaboração/análise/revisão de atos administrativos ou normativos',\n",
       " 'Minutas de instrução normativa, portaria, despacho, ofício, boletim interno, edital, contrato e outros documentos afins elaborados',\n",
       " 'A - Z',\n",
       " '1 a 40 horas',\n",
       " '4',\n",
       " 'Produção e/ou edição de material instrucional, de comunicação ou orientador',\n",
       " 'Comunicado, manual, guia, vídeos e demais materiais instrucionais e de comunicação produzidos ou editados',\n",
       " 'A - Z',\n",
       " '1 a 40 horas',\n",
       " '5',\n",
       " 'Gestão documental/registro e consulta de dados e informações',\n",
       " 'Gestão documental realizada, conclusão de registro ou de consulta e extração de dados e informações em sistemas institucionais e ambiente web (SEI, SIAFI, SIORG, SADWEB etc.)',\n",
       " 'A - Z',\n",
       " '1 a 40 horas',\n",
       " '6',\n",
       " 'Análise/planejamento de demanda',\n",
       " 'Resultado da análise da demanda relatado e/ou formalmente registrado, plano de atendimento da demanda',\n",
       " 'A - Z',\n",
       " '1 a 40 horas',\n",
       " '7',\n",
       " 'Gerenciamento de Projetos',\n",
       " 'Projetos geridos, dados e informações relacionados ao desenvolvimento e acompanhamento dos projetos registrados e atualizados',\n",
       " 'A - Z',\n",
       " '1 a 40 horas',\n",
       " '8',\n",
       " 'Realização de pesquisas e estudos',\n",
       " 'Resultados obtidos com estudos, pesquisas, benchmarking, entrevistas e demais atividades similares',\n",
       " 'A - Z',\n",
       " '1 a 40 horas',\n",
       " '9',\n",
       " 'Monitoramento/acompanhamento de informações, estatísticas e dados para suporte às atividades institucionais',\n",
       " 'Monitoramento ou acompanhamento realizado, registro dos resultados obtidos em levantamentos em sites, sistemas ou arquivos eletrônicos',\n",
       " 'A - Z',\n",
       " '1 a 40 horas',\n",
       " '10',\n",
       " 'Organização do Trabalho',\n",
       " 'Atividades e processos de trabalho distribuídos entre membros da equipe, informações gerenciais consolidadas, acompanhamento e orientação à equipe',\n",
       " 'A - Z',\n",
       " '1 a 40 horas',\n",
       " '11',\n",
       " 'Participação em ações de capacitação e desenvolvimento',\n",
       " 'Documentos, materiais, registros relacionados à atividade',\n",
       " 'A - Z',\n",
       " '1 a 40 horas',\n",
       " '12',\n",
       " 'Participação/coordenação das atividades de Órgãos Colegiados internos ou externos',\n",
       " 'Instituição representada, documentos e informações relacionados a atividades, resultados e encaminhamentos relatados e/ou registrados',\n",
       " 'A - Z',\n",
       " '1 a 40 horas',\n",
       " '13',\n",
       " 'Organização/coordenação de eventos e reuniões',\n",
       " 'Planejamento geral do evento, agenda/pauta, cronograma de atividades, mensagens, lista de presença, memória, documentos e material relacionados à atividade',\n",
       " 'A - Z',\n",
       " '1 a 40 horas',\n",
       " '14',\n",
       " 'Participação em reuniões ou eventos',\n",
       " 'Participação realizada, memória, relato, relatório de viagem, agenda, registro de presença',\n",
       " 'A - Z',\n",
       " '1 a 40 horas',\n",
       " '15',\n",
       " 'Desenvolvimento, manutenção e implantação de sistemas e aplicativos',\n",
       " 'Desenvolvimento, manutenção, implantação, testes, homologação, design, gestão de requisitos ou gestão da base de dados concluída',\n",
       " 'A - Z',\n",
       " '1 a 40 horas',\n",
       " '16',\n",
       " 'Outras Demandas Administrativas ou de Gestão',\n",
       " 'Outras demandas não detalhadas na Tabela de Atividades',\n",
       " 'A - Z',\n",
       " '1 a 40 horas',\n",
       " '17',\n",
       " 'Produção de Soluções Analíticas para Suporte à Decisão',\n",
       " 'Informações Disponíveis às Áreas Clientes (Relatórios, Painéis, Conjuntos de Dados etc.)',\n",
       " 'A - Z',\n",
       " '1 a 40 horas',\n",
       " '18',\n",
       " 'Gestão e governança de Dados',\n",
       " 'Dados Catalogados, Dados Atualizados, Dados Acessíveis, Dados em conformidade com padrões esperados',\n",
       " 'A - Z',\n",
       " '1 a 40 horas',\n",
       " '(1) Complexidade = o parâmetro para avaliação da complexidade é o tempo necessário para execução da tarefa.',\n",
       " '(2) Conforme a complexidade selecionada, o tempo necessário para execução da tarefa em regime presencial é igual àquele necessário para execução da mesma tarefa em regime de teletrabalho.',\n",
       " 'ANEXO IV',\n",
       " 'TABELA DE FAIXAS DE COMPLEXIDADE',\n",
       " 'FAIXA DE COMPLEXIDADE/ESFORÇO',\n",
       " 'TEMPO NECESSÁRIO PARA EXECUÇÃO DA TAREFA (EM HORAS)',\n",
       " 'A',\n",
       " '1',\n",
       " 'B',\n",
       " '2',\n",
       " 'C',\n",
       " '3',\n",
       " 'D',\n",
       " '4',\n",
       " 'E',\n",
       " '5',\n",
       " 'F',\n",
       " '6',\n",
       " 'G',\n",
       " '7',\n",
       " 'H',\n",
       " '8',\n",
       " 'I',\n",
       " '9',\n",
       " 'J',\n",
       " '10',\n",
       " 'K',\n",
       " '11',\n",
       " 'L',\n",
       " '12',\n",
       " 'M',\n",
       " '14',\n",
       " 'N',\n",
       " '16',\n",
       " 'O',\n",
       " '18',\n",
       " 'P',\n",
       " '20',\n",
       " 'Q',\n",
       " '22',\n",
       " 'R',\n",
       " '24',\n",
       " 'S',\n",
       " '26',\n",
       " 'T',\n",
       " '28',\n",
       " 'U',\n",
       " '30',\n",
       " 'V',\n",
       " '32',\n",
       " 'W',\n",
       " '34',\n",
       " 'X',\n",
       " '36',\n",
       " 'Y',\n",
       " '38',\n",
       " 'Z',\n",
       " '40',\n",
       " 'ANEXO V',\n",
       " 'FORMA DE APLICAÇÃO DA TABELA DE ATIVIDADES',\n",
       " 'A',\n",
       " 'Número',\n",
       " 'B',\n",
       " 'Atividade',\n",
       " 'C',\n",
       " 'Produtos Esperados',\n",
       " 'D',\n",
       " 'Complexidade (entre A e Z)',\n",
       " 'E',\n",
       " 'Tempo de Execução em Regime Presencial',\n",
       " '(entre 1 e 40 horas)',\n",
       " 'F',\n",
       " 'Tempo de Execução em Regime de Teletrabalho',\n",
       " '(valor idêntico ao do item E)',\n",
       " 'G',\n",
       " 'Ganho percentual de produtividade',\n",
       " '(sempre igual a 0%)']"
      ]
     },
     "execution_count": 78,
     "metadata": {},
     "output_type": "execute_result"
    }
   ],
   "source": [
    "df__"
   ]
  },
  {
   "cell_type": "code",
   "execution_count": 79,
   "metadata": {},
   "outputs": [
    {
     "name": "stdout",
     "output_type": "stream",
     "text": [
      "['teletrabalho', 'teletrabalho']\n",
      "['teletrabalho']\n",
      "['teletrabalho', 'teletrabalho']\n",
      "['teletrabalho']\n",
      "['teletrabalho']\n",
      "['teletrabalho']\n",
      "['teletrabalho']\n",
      "['teletrabalho']\n",
      "['teletrabalho']\n",
      "['teletrabalho']\n"
     ]
    }
   ],
   "source": [
    "for i in df__:\n",
    "    pr = re.findall('teletrabalho', i)\n",
    "    #pr = re.findall('projetos de reciclagem', i)\n",
    "    if pr:\n",
    "        print(pr)"
   ]
  },
  {
   "cell_type": "code",
   "execution_count": 81,
   "metadata": {},
   "outputs": [
    {
     "name": "stdout",
     "output_type": "stream",
     "text": [
      "Start Index: 36\n",
      "End Index: 48\n",
      "Art. 4º As modalidades presencial e teletrabalho poderão ser adotadas no Programa de Gestão da Secretaria-Executiva, podendo o teletrabalho ser executado em regime integral ou parcial.\n",
      "Start Index: 18\n",
      "End Index: 30\n",
      "§ 2º A modalidade teletrabalho não poderá abranger atividades cuja natureza exija a presença física do participante na unidade, ou que sejam desenvolvidas por meio de trabalho externo.\n",
      "Start Index: 57\n",
      "End Index: 69\n",
      "§ 3º No caso de regime de execução parcial da modalidade teletrabalho, deverão ser definidos dias apenas em teletrabalho e dias apenas em trabalho presencial, não podendo haver dias com regime parcialmente em uma forma ou outra.\n",
      "Start Index: 36\n",
      "End Index: 48\n",
      "§ 4º Os participantes da modalidade teletrabalho, em regime de execução integral ou parcial, devem atender às convocações para comparecimento pessoal na unidade de lotação, observado o horário de expediente da Presidência da República.\n",
      "Start Index: 280\n",
      "End Index: 292\n",
      "do art. 5º apresentarem ao Secretário-Executivo, após decorridos 90 (noventa) dias do encerramento da fase de experiência-piloto e de ambientação do programa, proposta de otimização do espaço físico no âmbito das respectivas unidades, considerando o quantitativo de servidores em teletrabalho, seja em regime de execução integral ou parcial.\n",
      "Start Index: 34\n",
      "End Index: 46\n",
      "Parágrafo único. Os servidores em teletrabalho, em regime de execução parcial, deverão compartilhar, sempre que possível, os recursos físicos e tecnológicos disponibilizados para as suas unidades.\n",
      "Start Index: 166\n",
      "End Index: 178\n",
      "Regime de Execução do Teletrabalho: ( ) Teletrabalho parcial. Caso essa opção seja selecionada, informe a previsão de quantos dias úteis da semana a execução será em teletrabalho: ( ) 1 ( ) 2 ( ) 3 ( ) 4\n",
      "Start Index: 85\n",
      "End Index: 97\n",
      "IV. disponho de infraestrutura necessária para o exercício das minhas atribuições em teletrabalho, inclusive aquelas relacionadas à segurança da informação;\n",
      "Start Index: 117\n",
      "End Index: 129\n",
      "O participante compromete-se a manter-se operante, disponível e acessível pela Casa Civil, durante toda a jornada de teletrabalho, com acesso ao e-mail institucional e ao telefone celular, nos termos dos artigos 22 e 23 da Instrução Normativa SGP/SEDGGD/ME nº 65, de 2020.\n",
      "Start Index: 174\n",
      "End Index: 186\n",
      "(2) Conforme a complexidade selecionada, o tempo necessário para execução da tarefa em regime presencial é igual àquele necessário para execução da mesma tarefa em regime de teletrabalho.\n"
     ]
    }
   ],
   "source": [
    "import re\n",
    " \n",
    "for s in df__:\n",
    "    match = re.search(r'teletrabalho', s)\n",
    "    #match = re.search(r'Mobiliários', s)\n",
    "    if match: \n",
    "        print('Start Index:', match.start())\n",
    "        print('End Index:', match.end())\n",
    "        print(s)\n",
    "  "
   ]
  },
  {
   "cell_type": "code",
   "execution_count": 29,
   "metadata": {},
   "outputs": [
    {
     "name": "stdout",
     "output_type": "stream",
     "text": [
      "<!DOCTYPE html>\n",
      "<html lang=\"pt-BR\"><head><meta charset=\"utf-8\"/><meta content=\"/images/branding/googleg/1x/googleg_standard_color_128dp.png\" itemprop=\"image\"/><title>ProRecicle - Pesquisa Google</title><script nonce=\"L4D+en/JtaQquyX4Rssvyw==\">(function(){\n",
      "document.documentElement.addEventListener(\"submit\",function(b){var a;if(a=b.target){var c=a.getAttribute(\"data-submitfalse\");a=\"1\"===c||\"q\"===c&&!a.elements.q.value?!0:!1}else a=!1;a&&(b.preventDefault(),b.stopPropagation())},!0);document.documentElement.addEventListener(\"click\",function(b){var a;a:{for(a=b.target;a&&a!==document.documentElement;a=a.parentElement)if(\"A\"===a.tagName){a=\"1\"===a.getAttribute(\"data-nohref\");break a}a=!1}a&&b.preventDefault()},!0);}).call(this);(function(){\n",
      "var a=window.performance;window.start=Date.now();a:{var b=window;if(a){var c=a.timing;if(c){var d=c.navigationStart,f=c.responseStart;if(f>d&&f<=window.start){window.start=f;b.wsrt=f-d;break a}}a.now&&(b.wsrt=Math.floor(a.now()))}}window.google=window.google||{};var h=function(g){g&&g.target.setAttribute(\"data-iml\",Date.now())};document.documentElement.addEventListener(\"load\",h,!0);google.rglh=function(){document.documentElement.removeEventListener(\"load\",h,!0)};}).call(this);(function(){window.google.erd={jsr:1,bv:1493,de:true};})();(function(){var sdo=false;var mei=10;\n",
      "var f=this||self;var g,h,k=null!==(g=f.mei)&&void 0!==g?g:1,l=null!==(h=f.sdo)&&void 0!==h?h:!0,p=0,q,r=google.erd,u=r.jsr;google.ml=function(a,b,d,m,c){c=void 0===c?2:c;b&&(q=a&&a.message);if(google.dl)return google.dl(a,c,d),null;if(0>u){window.console&&console.error(a,d);if(-2===u)throw a;b=!1}else b=!a||!a.message||\"Error loading script\"===a.message||p>=k&&!m?!1:!0;if(!b)return null;p++;d=d||{};var e=c;c=encodeURIComponent;b=\"/gen_204?atyp=i&ei=\"+c(google.kEI);google.kEXPI&&(b+=\"&jexpid=\"+c(google.kEXPI));b+=\"&srcpg=\"+c(google.sn)+\"&jsr=\"+c(r.jsr)+\"&bver=\"+c(r.bv)+(\"&jsel=\"+e);e=a.lineNumber;void 0!==e&&(b+=\"&line=\"+\n",
      "e);var n=a.fileName;n&&(b+=\"&script=\"+c(n),e&&n===window.location.href&&(e=document.documentElement.outerHTML.split(\"\\n\")[e],b+=\"&cad=\"+c(e?e.substring(0,300):\"No script found.\")));for(var t in d)b+=\"&\",b+=c(t),b+=\"=\",b+=c(d[t]);b=b+\"&emsg=\"+c(a.name+\": \"+a.message);b=b+\"&jsst=\"+c(a.stack||\"N/A\");12288<=b.length&&(b=b.substr(0,12288));a=b;m||google.log(0,\"\",a);return a};window.onerror=function(a,b,d,m,c){q!==a&&(a=c instanceof Error?c:Error(a),void 0===d||\"lineNumber\"in a||(a.lineNumber=d),void 0===b||\"fileName\"in a||(a.fileName=b),google.ml(a,!1,void 0,!1,\"SyntaxError\"===a.name||\"SyntaxError\"===a.message.substring(0,11)?2:0));q=null;l&&p>=k&&(window.onerror=null)};})();(function(){\n",
      "var c=[],e=0;window.ping=function(b){-1==b.indexOf(\"&zx\")&&(b+=\"&zx=\"+Date.now());var a=new Image,d=e++;c[d]=a;a.onerror=a.onload=a.onabort=function(){delete c[d]};a.src=b};}).call(this);</script><style>body{margin:0 auto;max-width:736px;padding:0 8px;}a{color:#1967d2;text-decoration:none;tap-highlight-color:rgba(0,0,0,.10)}a:visited{color:#4B11A8}a:hover{text-decoration:underline}img{border:0}html{font-family:Roboto,Helvetica Neue,Arial,sans-serif;font-size:14px;line-height:20px;text-size-adjust:100%;color:#3c4043;word-wrap:break-word;background-color:#fff}.bRsWnc{background-color:#fff;border-top:1px solid #dadce0;height:39px;overflow:hidden}.N6RWV{height:51px;overflow-scrolling:touch;overflow-x:auto;overflow-y:hidden}.Uv67qb{box-pack:justify;font-size:12px;line-height:37px;justify-content:space-between;justify-content:space-between}.Uv67qb a,.Uv67qb span{color:#70757a;display:block;flex:none;padding:0 16px;text-align:center;text-transform:uppercase;}span.OXXup{border-bottom:2px solid #4285f4;color:#4285f4;font-weight:bold}a.eZt8xd:visited{color:#70757a}.FElbsf{border-left:1px solid rgba(0,0,0,.12)}header article{overflow:visible}.Pg70bf{height:39px;display:box;display:flex;display:flex;width:100%}.H0PQec{position:relative;flex:1}.sbc{display:flex;width:100%}.Pg70bf input{margin:2px 4px 2px 8px;}.x{width:26px;color:#70757a;font:27px/38px arial, sans-serif;line-height:40px;}#qdClwb{flex:0 0 auto;width:39px;height:39px;border-bottom:0;padding:0;border-top-right-radius:8px;background-color:#1a73e8;border:1px solid #1558d6;background-image:url(data:image/gif;base64,R0lGODdhJAAjAPIHAODr/nCk+MPZ/FmV96zK+/7+/5K5+kqL9iwAAAAAJAAjAEADani63P4wykmbKcQRXDscQAEMXmmeaLQVLCukzyC09AjfeK7v/MAajACLhPMVAgwjsUcEiZa8xgAYrVqv2Kx2iwsIAAABknfBBAKrTE4IcMyot8ur8datqIbQfJdnAfo2WE6BV05wXIiJigkAOw==);}.sc{font-size:16px;position:absolute;top:39px;left:0;right:0;box-shadow:0px 2px 5px rgba(0,0,0,.2);z-index:2;background-color:#fff}.sc>div{padding:10px 10px;padding-left:16px;padding-left:14px;border-top:1px solid #dfe1e5}.scs{background-color:#f8f9fa;}.noHIxc{display:block;font-size:16px;padding:0 0 0 8px;flex:1;height:35px;outline:none;border:none;width:100%;-webkit-tap-highlight-color:rgba(0,0,0,.00);overflow:hidden;}.sbc input[type=text]{background:none}.sml .cOl4Id{display:none}.l{display:none}.sml header{background:none}.sml .l{display:block;padding:0 8px}.sml .l{letter-spacing:-1px;text-align:center;border-radius:2px 0 0 0;font:22px/36px Futura, Arial, sans-serif;font-smoothing:antialiased}.bz1lBb{background:#fff;border-radius:8px 8px 0 0;box-shadow:0 1px 6px rgba(32, 33, 36, 0.18);margin-top:10px}.KP7LCb{border-radius:0 0 8px 8px;box-shadow:0 2px 3px rgba(32, 33, 36, 0.18);margin-bottom:10px;overflow:hidden}.cOl4Id{letter-spacing:-1px;text-align:center;font:22pt Futura, Arial, sans-serif;height:37px;font-smoothing:antialiased;padding:10px 0 5px 0;}.cOl4Id span{display:inline-block}.V6gwVd{color:#4285f4}.iWkuvd{color:#ea4335}.cDrQ7{color:#fcc934}.ntlR9{color:#34a853}.tJ3Myc{-webkit-transform:rotate(-20deg);position:relative;left:-1px;display:inline-block}footer{text-align:center;margin-top:18px}footer a,footer a:visited,.smiUbb{color:#70757a}.xeDNfc{margin:0 13px}#EOlPnc{margin-top:36px}#EOlPnc>div{margin:20px}.Srfpq{color:#70757a}</style></head><body jsmodel=\"hspDDf\"><header id=\"hdr\"><script nonce=\"L4D+en/JtaQquyX4Rssvyw==\">(function(){\n",
      "var k=this||self,l=function(){},m=function(a){var b=typeof a;return\"object\"==b&&null!=a||\"function\"==b},n=function(a,b){function c(){}c.prototype=b.prototype;a.j=b.prototype;a.prototype=new c;a.prototype.constructor=a;a.l=function(d,e,f){for(var g=Array(arguments.length-2),h=2;h<arguments.length;h++)g[h-2]=arguments[h];return b.prototype[e].apply(d,g)}};var p=Array.prototype.indexOf?function(a,b){return Array.prototype.indexOf.call(a,b,void 0)}:function(a,b){if(\"string\"===typeof a)return\"string\"!==typeof b||1!=b.length?-1:a.indexOf(b,0);for(var c=0;c<a.length;c++)if(c in a&&a[c]===b)return c;return-1};var q=function(a){return\"string\"==typeof a.className?a.className:a.getAttribute&&a.getAttribute(\"class\")||\"\"},r=function(a,b){\"string\"==typeof a.className?a.className=b:a.setAttribute&&a.setAttribute(\"class\",b)},t=function(a,b){a.classList?b=a.classList.contains(b):(a=a.classList?a.classList:q(a).match(/\\S+/g)||[],b=0<=p(a,b));return b},w=function(){var a=u,b=v;a.classList?a.classList.remove(b):t(a,b)&&r(a,Array.prototype.filter.call(a.classList?a.classList:q(a).match(/\\S+/g)||[],function(c){return c!=\n",
      "b}).join(\" \"))};function x(){var a=k.navigator;return a&&(a=a.userAgent)?a:\"\"};var y=function(a){y[\" \"](a);return a};y[\" \"]=l;var z=-1!=x().indexOf(\"Gecko\")&&!(-1!=x().toLowerCase().indexOf(\"webkit\")&&-1==x().indexOf(\"Edge\"))&&!(-1!=x().indexOf(\"Trident\")||-1!=x().indexOf(\"MSIE\"))&&-1==x().indexOf(\"Edge\");var A=function(a,b){this.type=a;this.target=b};A.prototype.g=function(){};var B=function(){if(!k.addEventListener||!Object.defineProperty)return!1;var a=!1,b=Object.defineProperty({},\"passive\",{get:function(){a=!0}});try{k.addEventListener(\"test\",l,b),k.removeEventListener(\"test\",l,b)}catch(c){}return a}();var D=function(a){A.call(this,a?a.type:\"\");this.relatedTarget=this.target=null;this.button=this.screenY=this.screenX=this.clientY=this.clientX=0;this.key=\"\";this.keyCode=0;this.metaKey=this.shiftKey=this.altKey=this.ctrlKey=!1;this.state=null;this.pointerId=0;this.pointerType=\"\";this.h=null;if(a){var b=this.type=a.type,c=a.changedTouches&&a.changedTouches.length?a.changedTouches[0]:null;this.target=a.target||a.srcElement;var d=a.relatedTarget;if(d){if(z){a:{try{y(d.nodeName);var e=!0;break a}catch(f){}e=\n",
      "!1}e||(d=null)}}else\"mouseover\"==b?d=a.fromElement:\"mouseout\"==b&&(d=a.toElement);this.relatedTarget=d;c?(this.clientX=void 0!==c.clientX?c.clientX:c.pageX,this.clientY=void 0!==c.clientY?c.clientY:c.pageY,this.screenX=c.screenX||0,this.screenY=c.screenY||0):(this.clientX=void 0!==a.clientX?a.clientX:a.pageX,this.clientY=void 0!==a.clientY?a.clientY:a.pageY,this.screenX=a.screenX||0,this.screenY=a.screenY||0);this.button=a.button;this.keyCode=a.keyCode||0;this.key=a.key||\"\";this.ctrlKey=a.ctrlKey;this.altKey=a.altKey;this.shiftKey=a.shiftKey;this.metaKey=a.metaKey;this.pointerId=a.pointerId||0;this.pointerType=\"string\"===typeof a.pointerType?a.pointerType:C[a.pointerType]||\"\";this.state=a.state;this.h=a;a.defaultPrevented&&D.j.g.call(this)}};n(D,A);var C={2:\"touch\",3:\"pen\",4:\"mouse\"};D.prototype.g=function(){D.j.g.call(this);var a=this.h;a.preventDefault?a.preventDefault():a.returnValue=!1};var E=\"closure_listenable_\"+(1E6*Math.random()|0);var F=0;var G=function(a,b,c,d,e){this.listener=a;this.proxy=null;this.src=b;this.type=c;this.capture=!!d;this.h=e;this.key=++F;this.g=this.i=!1},H=function(a){a.g=!0;a.listener=null;a.proxy=null;a.src=null;a.h=null};var I=function(a){this.src=a;this.g={};this.h=0};I.prototype.add=function(a,b,c,d,e){var f=a.toString();a=this.g[f];a||(a=this.g[f]=[],this.h++);var g;a:{for(g=0;g<a.length;++g){var h=a[g];if(!h.g&&h.listener==b&&h.capture==!!d&&h.h==e)break a}g=-1}-1<g?(b=a[g],c||(b.i=!1)):(b=new G(b,this.src,f,!!d,e),b.i=c,a.push(b));return b};var J=\"closure_lm_\"+(1E6*Math.random()|0),K={},L=0,N=function(a,b,c,d,e){if(d&&d.once)return M(a,b,c,d,e);if(Array.isArray(b)){for(var f=0;f<b.length;f++)N(a,b[f],c,d,e);return null}c=O(c);return a&&a[E]?a.g(b,c,m(d)?!!d.capture:!!d,e):P(a,b,c,!1,d,e)},P=function(a,b,c,d,e,f){if(!b)throw Error(\"a\");var g=m(e)?!!e.capture:!!e,h=Q(a);h||(a[J]=h=new I(a));c=h.add(b,c,d,g,f);if(c.proxy)return c;d=R();c.proxy=d;d.src=a;d.listener=c;if(a.addEventListener)B||(e=g),void 0===e&&(e=!1),a.addEventListener(b.toString(),d,e);else if(a.attachEvent)a.attachEvent(S(b.toString()),d);else if(a.addListener&&a.removeListener)a.addListener(d);else throw Error(\"b\");L++;return c},R=function(){var a=T,b=function(c){return a.call(b.src,b.listener,c)};return b},M=function(a,b,c,d,e){if(Array.isArray(b)){for(var f=0;f<b.length;f++)M(a,b[f],c,d,e);return null}c=O(c);return a&&a[E]?a.h(b,c,m(d)?!!d.capture:!!d,e):P(a,b,c,!0,d,e)},U=function(a){if(\"number\"!==typeof a&&a&&!a.g){var b=a.src;if(b&&b[E])b.o(a);else{var c=a.type,d=a.proxy;b.removeEventListener?b.removeEventListener(c,d,a.capture):b.detachEvent?b.detachEvent(S(c),d):b.addListener&&b.removeListener&&b.removeListener(d);L--;if(c=Q(b)){d=a.type;if(d in c.g){var e=c.g[d],f=p(e,a),g;(g=0<=f)&&Array.prototype.splice.call(e,f,1);g&&(H(a),0==c.g[d].length&&(delete c.g[d],c.h--))}0==c.h&&(c.src=null,b[J]=null)}else H(a)}}},S=function(a){return a in K?K[a]:K[a]=\"on\"+a},T=function(a,b){if(a.g)a=!0;else{b=new D(b,this);var c=a.listener,d=a.h||a.src;a.i&&U(a);a=c.call(d,b)}return a},Q=function(a){a=a[J];return a instanceof I?a:null},V=\"__closure_events_fn_\"+(1E9*Math.random()>>>0),O=function(a){if(\"function\"===typeof a)return a;a[V]||(a[V]=function(b){return a.handleEvent(b)});return a[V]};var v,u=document.documentElement,W;function X(){U(W);W=M(u,\"mousedown\",function(){w();Y()},{capture:!0})}function Y(){U(W);W=N(u,\"keydown\",function(a){if(9===a.keyCode){a=u;var b=v;if(a.classList)a.classList.add(b);else if(!t(a,b)){var c=q(a);r(a,c+(0<c.length?\" \"+b:b))}X()}})};v=\"zAoYTe\";Y();}).call(this);(function(){var c=500;(function(){\n",
      "window.screen&&window.screen.width<=c&&window.screen.height<=c&&document.getElementById(\"hdr\").classList.add(\"sml\");}).call(this);})();</script><div class=\"cOl4Id\"><a href=\"/?sa=X&amp;ved=0ahUKEwjPvqmZxJr1AhU7JrkGHRvRB24QOwgC\"><span class=\"V6gwVd\">G</span><span class=\"iWkuvd\">o</span><span class=\"cDrQ7\">o</span><span class=\"V6gwVd\">g</span><span class=\"ntlR9\">l</span><span class=\"iWkuvd tJ3Myc\">e</span></a></div><div class=\"bz1lBb\"><form class=\"Pg70bf\" id=\"sf\"><a class=\"l\" href=\"/?output=search&amp;ie=UTF-8&amp;sa=X&amp;ved=0ahUKEwjPvqmZxJr1AhU7JrkGHRvRB24QPAgE\"><span class=\"V6gwVd\">G</span><span class=\"iWkuvd\">o</span><span class=\"cDrQ7\">o</span><span class=\"V6gwVd\">g</span><span class=\"ntlR9\">l</span><span class=\"iWkuvd tJ3Myc\">e</span></a><input name=\"ie\" type=\"hidden\" value=\"ISO-8859-1\"/><div class=\"H0PQec\"><div class=\"sbc esbc\"><input autocapitalize=\"none\" autocomplete=\"off\" class=\"noHIxc\" name=\"q\" spellcheck=\"false\" type=\"text\" value=\"ProRecicle\"/><input name=\"oq\" type=\"hidden\"/><input name=\"aqs\" type=\"hidden\"/><div class=\"x\">×</div><div class=\"sc\"></div></div></div><button id=\"qdClwb\" type=\"submit\"></button></form></div><noscript><meta content=\"0;url=/search?q=ProRecicle&amp;ie=UTF-8&amp;gbv=1&amp;sei=YITVYc-OIrvM5OUPm6Kf8AY\" http-equiv=\"refresh\"/><style>table,div,span,p{display:none}</style><div style=\"display:block\">Clique <a href=\"/search?q=ProRecicle&amp;ie=UTF-8&amp;gbv=1&amp;sei=YITVYc-OIrvM5OUPm6Kf8AY\">aqui</a> se você não for redirecionado em alguns segundos.</div></noscript></header><div id=\"main\"><div><div class=\"KP7LCb\"> <div class=\"bRsWnc\"> <div class=\"N6RWV\"> <div class=\"Pg70bf Uv67qb\"> <span class=\"OXXup\">Todas</span><a class=\"eZt8xd\" href=\"https://maps.google.com/maps?q=ProRecicle&amp;um=1&amp;ie=UTF-8&amp;sa=X&amp;ved=0ahUKEwjPvqmZxJr1AhU7JrkGHRvRB24Q_AUICCgB\">Maps</a><a class=\"eZt8xd\" href=\"/search?q=ProRecicle&amp;ie=UTF-8&amp;source=lnms&amp;tbm=vid&amp;sa=X&amp;ved=0ahUKEwjPvqmZxJr1AhU7JrkGHRvRB24Q_AUICSgC\">Vídeos</a><a class=\"eZt8xd\" href=\"/search?q=ProRecicle&amp;ie=UTF-8&amp;source=lnms&amp;tbm=shop&amp;sa=X&amp;ved=0ahUKEwjPvqmZxJr1AhU7JrkGHRvRB24Q_AUICigD\">Shopping</a> <a href=\"/search?q=ProRecicle&amp;ie=UTF-8&amp;source=lnms&amp;tbm=isch&amp;sa=X&amp;ved=0ahUKEwjPvqmZxJr1AhU7JrkGHRvRB24Q_AUICygE\">Imagens</a> <a href=\"/search?q=ProRecicle&amp;ie=UTF-8&amp;source=lnms&amp;tbm=nws&amp;sa=X&amp;ved=0ahUKEwjPvqmZxJr1AhU7JrkGHRvRB24Q_AUIDCgF\">Notícias</a> <a href=\"/search?q=ProRecicle&amp;ie=UTF-8&amp;source=lnms&amp;tbm=bks&amp;sa=X&amp;ved=0ahUKEwjPvqmZxJr1AhU7JrkGHRvRB24Q_AUIDSgG\">Livros</a> <div class=\"FElbsf\"><a href=\"/advanced_search\" id=\"st-toggle\" role=\"button\" style=\"white-space:nowrap\">Ferramentas de pesquisa</a></div> </div> </div> </div> </div><div class=\"Pg70bf wEsjbd ZINbbc xpd O9g5cc uUPGi\" id=\"st-card\" style=\"display:none\"><style>.wEsjbd{background-color:#fff;height:44px;white-space:nowrap}.coPU8c{height:60px;overflow-scrolling:touch;overflow-x:auto;overflow-y:hidden}.Xj2aue{height:44px;overflow:hidden}.RnNGze{margin:11px 16px}.wEsjbd div,.wEsjbd a,.wEsjbd li{outline-width:0;outline:none}</style><div class=\"Xj2aue\"><div class=\"coPU8c\"><div class=\"RnNGze\"><style>.PA9J5{display:inline-block}.RXaOfd{display:inline-block;height:22px;position:relative;padding-top:0;padding-bottom:0;padding-right:16px;padding-left:0;line-height:22px;cursor:pointer;text-transform:uppercase;font-size:12px;color:#70757a}.sa1toc{display:none;position:absolute;background:#fff;border:1px solid #d6d6d6;box-shadow:0 2px 4px rgba(0,0,0,0.3);margin:0;white-space:nowrap;z-index:103;line-height:17px;padding-top:5px;padding-bottom:5px;padding-left:0}.PA9J5:hover .sa1toc{display:block}.mGSy8d a:active,.RXaOfd:active{color:#4285f4}</style><div class=\"PA9J5\"><div class=\"RXaOfd\" role=\"button\" tabindex=\"0\"><style>.TWMOUc{display:inline-block;padding-right:14px;white-space:nowrap}.vQYuGf{font-weight:bold}.OmTIzf{border-color:#909090 transparent;border-style:solid;border-width:4px 4px 0 4px;width:0;height:0;margin-left:-10px;top:50%;margin-top:-2px;position:absolute}.RXaOfd:active .OmTIzf{border-color:#4285f4 transparent}</style><div class=\"TWMOUc\">Em qualquer idioma</div><span class=\"OmTIzf\"></span></div><ul class=\"sa1toc ozatM\"><style>.ozatM{font-size:12px;text-transform:uppercase}.ozatM .yNFsl,.ozatM li{list-style-type:none;list-style-position:outside;list-style-image:none}.yNFsl.SkUj4c,.yNFsl a{color:rgba(0,0,0,0.54);text-decoration:none;padding:6px 44px 6px 14px;line-height:17px;display:block}.SkUj4c{background-image:url(//ssl.gstatic.com/ui/v1/menu/checkmark2.png);background-position:right center;background-repeat:no-repeat}.SkUj4c:active{background-color:#f8f9fa}</style><li class=\"yNFsl SkUj4c\">Em qualquer idioma</li><li class=\"yNFsl\"><a href=\"/search?q=ProRecicle&amp;ie=UTF-8&amp;source=lnt&amp;tbs=lr:lang_1pt&amp;lr=lang_pt&amp;sa=X&amp;ved=0ahUKEwjPvqmZxJr1AhU7JrkGHRvRB24QpwUIDw\">Pesquisar páginas em Português</a></li></ul></div><div class=\"PA9J5\"><div class=\"RXaOfd\" role=\"button\" tabindex=\"0\"><div class=\"TWMOUc\">Em qualquer data</div><span class=\"OmTIzf\"></span></div><ul class=\"sa1toc ozatM\"><li class=\"yNFsl SkUj4c\">Em qualquer data</li><li class=\"yNFsl\"><a href=\"/search?q=ProRecicle&amp;ie=UTF-8&amp;source=lnt&amp;tbs=qdr:h&amp;sa=X&amp;ved=0ahUKEwjPvqmZxJr1AhU7JrkGHRvRB24QpwUIEQ\"> Na última hora</a></li><li class=\"yNFsl\"><a href=\"/search?q=ProRecicle&amp;ie=UTF-8&amp;source=lnt&amp;tbs=qdr:d&amp;sa=X&amp;ved=0ahUKEwjPvqmZxJr1AhU7JrkGHRvRB24QpwUIEg\"> Nas últimas 24 horas</a></li><li class=\"yNFsl\"><a href=\"/search?q=ProRecicle&amp;ie=UTF-8&amp;source=lnt&amp;tbs=qdr:w&amp;sa=X&amp;ved=0ahUKEwjPvqmZxJr1AhU7JrkGHRvRB24QpwUIEw\"> Na última semana</a></li><li class=\"yNFsl\"><a href=\"/search?q=ProRecicle&amp;ie=UTF-8&amp;source=lnt&amp;tbs=qdr:m&amp;sa=X&amp;ved=0ahUKEwjPvqmZxJr1AhU7JrkGHRvRB24QpwUIFA\"> No último mês</a></li><li class=\"yNFsl\"><a href=\"/search?q=ProRecicle&amp;ie=UTF-8&amp;source=lnt&amp;tbs=qdr:y&amp;sa=X&amp;ved=0ahUKEwjPvqmZxJr1AhU7JrkGHRvRB24QpwUIFQ\"> No último ano</a></li></ul></div><div class=\"PA9J5\"><div class=\"RXaOfd\" role=\"button\" tabindex=\"0\"><div class=\"TWMOUc\">Todos os resultados</div><span class=\"OmTIzf\"></span></div><ul class=\"sa1toc ozatM\"><li class=\"yNFsl SkUj4c\">Todos os resultados</li><li class=\"yNFsl\"><a href=\"/search?q=ProRecicle&amp;ie=UTF-8&amp;source=lnt&amp;tbs=li:1&amp;sa=X&amp;ved=0ahUKEwjPvqmZxJr1AhU7JrkGHRvRB24QpwUIFw\">Ao pé da letra</a></li></ul></div></div></div></div><script nonce=\"L4D+en/JtaQquyX4Rssvyw==\">(function(){\n",
      "var a=document.getElementById(\"st-toggle\"),b=document.getElementById(\"st-card\");a&&b&&a.addEventListener(\"click\",function(c){b.style.display=b.style.display?\"\":\"none\";c.preventDefault()},!1);}).call(this);</script></div></div><style>.nGphre{float:right;padding-left:16px}.UykT9d{border-radius:8px;display:block}.nYT7Qb{clear:both}.ZINbbc{background-color:#fff;margin-bottom:10px;box-shadow:0 1px 6px rgba(32, 33, 36, 0.28);border-radius:8px}.uUPGi{font-size:14px;line-height:20px;}.O9g5cc>*:first-child{border-top-left-radius:8px;border-top-right-radius:8px}.O9g5cc>*:last-child{border-bottom-left-radius:8px;border-bottom-right-radius:8px}.O9g5cc>.qxDOhb>*:first-child{border-top-left-radius:8px;border-top-right-radius:8px}.O9g5cc>.qxDOhb>*:last-child{border-bottom-left-radius:8px;border-bottom-right-radius:8px}.kCrYT{padding:12px 16px 12px}.R0jTRc{vertical-align:middle}.l97dzf{font-weight:400}.zBAuLc{line-height:normal;margin:0;padding:0}.BNeawe{white-space:pre-line;word-wrap:break-word}.deIvCb{font-size:16px;line-height:20px;font-weight:400}.deIvCb.HrGdeb{color:#fff}.deIvCb.AP7Wnd{color:#202124}.tAd8D{font-size:14px;line-height:20px}.tAd8D.HrGdeb{color:rgba(255,255,255,.70)}.tAd8D.AP7Wnd{color:#70757a}.xUrNXd.VyZZLb{color:rgba(255,255,255,.70)}.xUrNXd.UMOHqf{color:#70757a}.tP9Zud{display:inline-block;}.QzarWc{color:#3c4043}.oqSTJd{color:#70757a}.Hk2yDb,.Hk2yDb span{background-repeat:repeat-x;background-size:14px,14px;height:14px;width:70px}.Hk2yDb{display:inline-block;font-size:0;line-height:0;position:relative;top:1px}.Hk2yDb span{display:block}.Hk2yDb.KsR1A{background-image:url(data:image/png;base64,iVBORw0KGgoAAAANSUhEUgAAACgAAAAoBAMAAAB+0KVeAAAAD1BMVEVMaXEAAAAAAAAAAAAAAACF6eB8AAAABXRSTlMAID8OM2w9R7oAAACdSURBVHgBvdGBCcIwEEbhq+kAaXEA+5oBYuoAmnb/mQT5gcMDCoB+AIEA9y7EfmrIFl1uFrXVol4sSFBjB3LsQCzNsMQOlNjhq5S26Qrwmjbdp6PjlKMq4SiXwNOAhrOadDeymoyAPP1zfEUGJJvTNdFOLxFzElLPQqNb0/8F+x39iDTYzR56ucws7pBePtnU/aKomrpbM5sM1f7pDdrTIIXMnb07AAAAAElFTkSuQmCC)}.Hk2yDb.KsR1A span{background-image:url(data:image/png;base64,iVBORw0KGgoAAAANSUhEUgAAACgAAAAoBAMAAAB+0KVeAAAAGFBMVEVMaXH0tAD0tAD0tAD0tAD0tAD0tAD0tAB7hoq7AAAACHRSTlMAP6Ib/oXVZJ3/vYgAAADHSURBVHgBnNE1A4JgGARgmtHW0dxtZ+OA0dbRdrX/v+RLmkc/9H3MH2HjEcgVIrA1iMCZEoF7NWwycA6hBKxDmAZ6IawA/aDx0FMLoGjgKIAdA3d0WM89SkfYOZaWl5SOdwSiGe0EMW4/jkIP5vdeU2t2k14sUGugKJ6GKGdfG0aoE/+l509I7y/4azfiL7/l4IDIU4rmHwv0zZUH94AaZ421f4DO1ofVCFmgbGwbQNwzahtrJ4sRoUQvva8JuRo9vcA8RyMAAIXWR1O6HNlyAAAAAElFTkSuQmCC)}.AraNOb{text-decoration:underline}.skVgpb{display:table;table-layout:fixed;width:100%}.VGHMXd{display:table-cell;vertical-align:middle;height:52px;text-align:center}.LpaDrb{margin:0 auto 8px;display:block}.vbShOe{padding-top:0}.x54gtf{height:1px;background-color:#dfe1e5;margin:0 16px}.Q0HXG{height:1px;background-color:#dfe1e5}a.fdYsqf{color:#4b11a8}.EYOsld{display:inline-block;position:relative}.BFi9Zb{overflow:hidden;position:relative}.S7Jdze{align-items:center;display:flex;flex-direction:column;justify-content:space-around}.ji5jpf{text-align:center}.uEec3{font-size:12px;line-height:16px}.uEec3.HrGdeb{color:rgba(255,255,255,.70)}.uEec3.AP7Wnd{color:#70757a}.AVsepf{padding-bottom:8px}.AVsepf.u2x1Od{padding-bottom:0}.s3v9rd{font-size:14px;line-height:20px}.s3v9rd.HrGdeb{color:#fff}.s3v9rd.AP7Wnd{color:#202124}.rl7ilb{display:block;clear:both}.vvjwJb{color:#1967d2;font-size:16px;line-height:20px}a:visited .vvjwJb,.vvjwJb a:visited{color:#4B11A8}.vvjwJb.HrGdeb{color:#fff}a:visited .vvjwJb.HrGdeb,.vvjwJb.HrGdeb a:visited{color:rgba(255,255,255,.70)}.UPmit{font-size:14px;line-height:20px}.UPmit.HrGdeb{color:rgba(255,255,255,.70)}.UPmit.AP7Wnd{color:#0d652d}.Ey4n2{padding-bottom:12px}.yRG22b{padding-left:48px;margin:0}.MSiauf{padding-bottom:8px}.XLloXe{color:#1967d2;font-size:14px;line-height:20px}a:visited .XLloXe,.XLloXe a:visited{color:#4B11A8}.XLloXe.HrGdeb{color:#fff}a:visited .XLloXe.HrGdeb,.XLloXe.HrGdeb a:visited{color:rgba(255,255,255,.70)}.mEUgP{font-weight:bold;font-size:16px;color:#000;margin:0;padding:12px 16px 12px}.iIWm4b{box-sizing:border-box;min-height:48px}.gGQDvd{padding:14px;position:relative}.Q71vJc{display:block;position:relative;width:100%}.kjGX2{position:absolute;left:48px;right:0;vertical-align:bottom;display:inline-block;color:#3c4043}.ieB2Dd{width:40px;height:40px;overflow:hidden;margin-top:-10px;margin-bottom:-16px;margin-right:8px;border-radius:4px;display:inline-block;border-radius:50%;}.LsF2v span{color:#fff;mask-image:url(data:image/png;base64,iVBORw0KGgoAAAANSUhEUgAAADAAAAAwCAQAAAD9CzEMAAABa0lEQVR4AeyWtUIYQRBAX6yLu0uH08Q9ZfInNHF36UKFlHwHNLi7u2uNN9hgg3PsCVtx753fzOkalgkJieErOXQwsWAHOXwjZjcvXohsYy7xBOYgycwhDs6RzEECcJZyxGA5Z/HJIUoQVAp4z22OL3ibdxs+WgmH8EUqorZzl83cpR1RU/FBDKI2cMrhAzYgaiyeydDUQc7hxDkGNSoDj1xH1CfsxDNEvYEnXmtaNiayNPK1vw+UgIkEfx+pRdOiMRGlkS14YlLTjmHimEZO4IlxTTuCiSMaOYkn2jQtChORGtlr+ycX4YlXrotptkb+wxM3XFa0J4j60E5TMaRRNXgmHlEbOevQ2DUi6gt8kGJorjsQNW23OpxbnOQEt3lPMYLKNJdsdpkjuv5lo9MX/nMBUT/jk3iHYUs9zwGQ4LeAaHTgxTgtpPOLpyj8Dn4LE4l79RbhLV7bvsVnsHmLz1gk0e7lQ0LmRzMAAAU5VLMEuZJZAAAAAElFTkSuQmCC)}.lRVwie{text-overflow:ellipsis;white-space:nowrap;overflow:hidden}.rLshyf,.BmP5tf{padding-top:12px;padding-bottom:12px}.YOx3Ab{padding-left:16px;}.w1C3Le,.BmP5tf,.G5NbBd,.CS4w5b{padding-left:16px;padding-right:16px;}.G5NbBd{padding-bottom:12px}.CS4w5b{padding-top:12px}.nMymef{display:flex}.G5eFlf{flex:1;display:block}.nMymef span{text-align:center}</style><div><!--SW_C_X--></div><div></div><div><div class=\"ZINbbc xpd O9g5cc uUPGi\"><div class=\"kCrYT\"><div class=\"nGphre\"><img alt=\"\" class=\"UykT9d\" data-deferred=\"1\" id=\"dimg_1\" src=\"data:image/gif;base64,R0lGODlhAQABAIAAAP///////yH5BAEKAAEALAAAAAABAAEAAAICTAEAOw==\" style=\"max-width:72px;max-height:72px\"/></div><span><h3 class=\"zBAuLc l97dzf\"><div class=\"BNeawe deIvCb AP7Wnd\">Prórecicle Ambiental</div></h3></span><span><div class=\"BNeawe tAd8D AP7Wnd\"><span class=\"xUrNXd UMOHqf tP9Zud\"> <span aria-hidden=\"true\" class=\"oqSTJd\">4,2</span> <div aria-label=\"Classificado como 4.2 entre 5\" class=\"Hk2yDb KsR1A\" role=\"img\"><span style=\"width:56px\"></span></div> <span>(10)</span> </span>\n",
      "Centro de reciclagem em Duque de Caxias, Rio de Janeiro</div></span><div class=\"nYT7Qb\"></div></div><div class=\"Q0HXG\"></div><div class=\"kCrYT\"><div class=\"skVgpb\"><a class=\"VGHMXd\" href=\"https://maps.google.com/maps?um=1&amp;ie=UTF-8&amp;fb=1&amp;gl=br&amp;sa=X&amp;geocode=KUWrT-vCcJkAMYqyuR_IVDlc&amp;daddr=Pr%C3%B3recicle+Ambiental+-+Av.+Monte+Castelo,+1700+-+Jardim+Gramacho,+Duque+de+Caxias+-+RJ,+25055-120&amp;ved=2ahUKEwjPvqmZxJr1AhU7JrkGHRvRB24QlDt6BAgFEAM\"><div class=\"LpaDrb S7Jdze\" style=\"width:24px;height:24px\"><img alt=\"\" class=\"EYOsld\" data-deferred=\"1\" id=\"dimg_3\" src=\"data:image/gif;base64,R0lGODlhAQABAIAAAP///////yH5BAEKAAEALAAAAAABAAEAAAICTAEAOw==\" style=\"max-width:24px;max-height:24px\"/></div><div class=\"BNeawe ji5jpf uEec3 AP7Wnd\">Rotas</div></a><a class=\"VGHMXd\" href=\"/url?q=http://prorecicle.com.br/&amp;sa=U&amp;ved=2ahUKEwjPvqmZxJr1AhU7JrkGHRvRB24QgU96BAgFEAQ&amp;usg=AOvVaw2fukcl4kOWnv1JwfprCmbK\"><div class=\"LpaDrb S7Jdze\" style=\"width:24px;height:24px\"><img alt=\"\" class=\"EYOsld\" data-deferred=\"1\" id=\"dimg_5\" src=\"data:image/gif;base64,R0lGODlhAQABAIAAAP///////yH5BAEKAAEALAAAAAABAAEAAAICTAEAOw==\" style=\"max-width:24px;max-height:24px\"/></div><div class=\"BNeawe ji5jpf uEec3 AP7Wnd\">Website</div></a></div></div><div class=\"vbShOe kCrYT\"><div class=\"AVsepf\"><div class=\"BNeawe s3v9rd AP7Wnd\"><span><span class=\"BNeawe s3v9rd AP7Wnd\">Endereço</span></span>: <span><span class=\"BNeawe tAd8D AP7Wnd\">Av. Monte Castelo, 1700 - Jardim Gramacho, Duque de Caxias - RJ, 25055-120</span></span></div></div><div class=\"AVsepf\"><div class=\"BNeawe s3v9rd AP7Wnd\"><span><span class=\"BNeawe s3v9rd AP7Wnd\">Horário</span></span>: <span><span class=\"BNeawe tAd8D AP7Wnd\">Aberto ⋅ Fecha às 17:00</span></span></div></div><div class=\"AVsepf u2x1Od\"><div class=\"BNeawe s3v9rd AP7Wnd\"><span><span class=\"BNeawe s3v9rd AP7Wnd\">Telefone</span></span>: <span><span class=\"BNeawe tAd8D AP7Wnd\">(21) 3659-9130</span></span></div></div></div></div></div><div><div class=\"ZINbbc xpd O9g5cc uUPGi\"><div class=\"kCrYT\"><a href=\"/url?q=https://prorecicle.com.br/&amp;sa=U&amp;ved=2ahUKEwjPvqmZxJr1AhU7JrkGHRvRB24QFnoECAAQAg&amp;usg=AOvVaw1R7T_0-YtW6gG5HYNm_FC3\"><h3 class=\"zBAuLc l97dzf\"><div class=\"BNeawe vvjwJb AP7Wnd\">Pro Recicle Ambiental</div></h3><div class=\"BNeawe UPmit AP7Wnd\">prorecicle.com.br</div></a></div><div class=\"x54gtf\"></div><div class=\"kCrYT\"><div><div class=\"BNeawe s3v9rd AP7Wnd\"><div><div><div class=\"Ey4n2\"><div class=\"BNeawe s3v9rd AP7Wnd\">Uma árvore de eucalipto fabrica 23 resmas de papel A4. A reciclagem do papel reduz o desmatamento e economiza energia em seu processo produtivo. Faça a escolha ...</div></div><div><div class=\"MSiauf\"><div class=\"BNeawe s3v9rd AP7Wnd\"><span class=\"BNeawe\"><a href=\"/url?q=https://prorecicle.com.br/aprorecicle/&amp;sa=U&amp;ved=2ahUKEwjPvqmZxJr1AhU7JrkGHRvRB24QjBB6BAgAEAU&amp;usg=AOvVaw1zd9WcQdoTE4r7VzyPvup7\"><span class=\"XLloXe AP7Wnd\">A prórecicle</span></a></span></div></div><div><div class=\"BNeawe s3v9rd AP7Wnd\"><span class=\"BNeawe\"><a href=\"/url?q=https://prorecicle.com.br/author/prorecicle/&amp;sa=U&amp;ved=2ahUKEwjPvqmZxJr1AhU7JrkGHRvRB24QjBB6BAgAEAc&amp;usg=AOvVaw37Vol9vNzfAQnqZmivfX6S\"><span class=\"XLloXe AP7Wnd\">Prorecicle, Autor em ...</span></a></span></div></div></div></div></div></div></div></div></div></div><div><div class=\"ZINbbc xpd O9g5cc uUPGi\"><div class=\"kCrYT\"><a href=\"/url?q=https://agenciabrasil.ebc.com.br/tags/prorecicle&amp;sa=U&amp;ved=2ahUKEwjPvqmZxJr1AhU7JrkGHRvRB24QFnoECAgQAg&amp;usg=AOvVaw3VnvgEgNWQPkltzQRIPgHS\"><h3 class=\"zBAuLc l97dzf\"><div class=\"BNeawe vvjwJb AP7Wnd\">ProRecicle | Agência Brasil</div></h3><div class=\"BNeawe UPmit AP7Wnd\">agenciabrasil.ebc.com.br › tags › prorecicle</div></a></div><div class=\"x54gtf\"></div><div class=\"kCrYT\"><div><div class=\"BNeawe s3v9rd AP7Wnd\"><div><div><div class=\"BNeawe s3v9rd AP7Wnd\"><span class=\"xUrNXd UMOHqf\">9 de dez. de 2021</span><span class=\"xUrNXd UMOHqf\"> · </span>A lei publicada no Diário Oficial da União desta quinta-feira autoriza a constituição do ProRecicle. Os recursos do fundo serão destinados a ...</div></div></div></div></div></div></div></div><div><div class=\"ZINbbc xpd O9g5cc uUPGi\"><div class=\"kCrYT\"><a href=\"/url?q=https://br.linkedin.com/company/administra-o-na-pr-recicle-ambiental-transportes-e-recicl-veis&amp;sa=U&amp;ved=2ahUKEwjPvqmZxJr1AhU7JrkGHRvRB24QFnoECAcQAg&amp;usg=AOvVaw2LkqxZuXx1rIR4UxxUb2Ou\"><h3 class=\"zBAuLc l97dzf\"><div class=\"BNeawe vvjwJb AP7Wnd\">Prórecicle Ambiental Transportes e Recicláveis | LinkedIn</div></h3><div class=\"BNeawe UPmit AP7Wnd\">br.linkedin.com › company › administra-o-na-pr-recicle-ambiental-transpo...</div></a></div><div class=\"x54gtf\"></div><div class=\"kCrYT\"><div><div class=\"BNeawe s3v9rd AP7Wnd\"><div><div><div class=\"BNeawe s3v9rd AP7Wnd\">Prórecicle Ambiental Transportes e Recicláveis. Serviços ambientais. Duque de Caxias - Jardim Gramacho, Rio de Janeiro 498 seguidores. Investir na gestão de ...</div></div></div></div></div></div></div></div><div><div class=\"ZINbbc xpd O9g5cc uUPGi\"><div class=\"kCrYT\"><a href=\"/url?q=https://www.instagram.com/prorecicle/&amp;sa=U&amp;ved=2ahUKEwjPvqmZxJr1AhU7JrkGHRvRB24QFnoECAkQAg&amp;usg=AOvVaw0hqzBgAdSyjtLFW9V2grTj\"><h3 class=\"zBAuLc l97dzf\"><div class=\"BNeawe vvjwJb AP7Wnd\">Prórecicle Ambiental (@prorecicle) • Instagram photos and videos</div></h3><div class=\"BNeawe UPmit AP7Wnd\">www.instagram.com › prorecicle</div></a></div><div class=\"x54gtf\"></div><div class=\"kCrYT\"><div><div class=\"BNeawe s3v9rd AP7Wnd\"><div><div><div class=\"BNeawe s3v9rd AP7Wnd\">Prórecicle Ambiental. Product/service. Benefício ao Meio ambiente, economia para a sua empresa. www.prorecicle.com.br. Dicas's profile picture.</div></div></div></div></div></div></div></div><div><div class=\"ZINbbc xpd O9g5cc uUPGi\"><div class=\"kCrYT\"><a href=\"/url?q=https://www.facebook.com/prorecicleambiental/posts/&amp;sa=U&amp;ved=2ahUKEwjPvqmZxJr1AhU7JrkGHRvRB24QFnoECAQQAg&amp;usg=AOvVaw1EtQrNJE9ojEORaInzLWF7\"><h3 class=\"zBAuLc l97dzf\"><div class=\"BNeawe vvjwJb AP7Wnd\">Prórecicle Ambiental Transportes e Recicláveis - Posts | Facebook</div></h3><div class=\"BNeawe UPmit AP7Wnd\">www.facebook.com › prorecicleambiental › posts</div></a></div><div class=\"x54gtf\"></div><div class=\"kCrYT\"><div><div class=\"BNeawe s3v9rd AP7Wnd\"><div><div class=\"MSiauf\"><div class=\"BNeawe s3v9rd AP7Wnd\"><span class=\"xUrNXd UMOHqf\">Classificação</span> <span class=\"xUrNXd UMOHqf tP9Zud\"> <span aria-hidden=\"true\" class=\"oqSTJd\">5,0</span> <div aria-label=\"Classificado como 5.0 entre 5\" class=\"Hk2yDb KsR1A\" role=\"img\"><span style=\"width:70px\"></span></div> <span>(12)</span> </span> <span class=\"xUrNXd UMOHqf\"> · </span><span class=\"xUrNXd UMOHqf\">$</span></div></div><div><div class=\"BNeawe s3v9rd AP7Wnd\">Prórecicle Ambiental Transportes e Recicláveis, profile picture ... Para essa virada de ano, nós da ProRecicle, desejamos que vocês possam viver essa data ...</div></div></div></div></div></div></div></div><div><div class=\"ZINbbc xpd O9g5cc uUPGi\"><div class=\"kCrYT\"><a href=\"/url?q=https://www.poder360.com.br/governo/bolsonaro-sanciona-lei-que-estabelece-incentivos-a-industria-da-reciclagem/&amp;sa=U&amp;ved=2ahUKEwjPvqmZxJr1AhU7JrkGHRvRB24QFnoECAEQAg&amp;usg=AOvVaw2KQ2j2AMNaTTjdwNKKTaHY\"><h3 class=\"zBAuLc l97dzf\"><div class=\"BNeawe vvjwJb AP7Wnd\">Bolsonaro sanciona lei que estabelece incentivos à indústria da ...</div></h3><div class=\"BNeawe UPmit AP7Wnd\">www.poder360.com.br › governo › bolsonaro-sanciona-lei-que-estabelece-...</div></a></div><div class=\"x54gtf\"></div><div class=\"kCrYT\"><div><div class=\"BNeawe s3v9rd AP7Wnd\"><div><div><div class=\"BNeawe s3v9rd AP7Wnd\"><span class=\"xUrNXd UMOHqf\">9 de dez. de 2021</span><span class=\"xUrNXd UMOHqf\"> · </span>A legislação autoriza a constituição do ProRecicle, sob a forma de condomínio, sem personalidade jurídica. Os recursos serão destinados aos ...</div></div></div></div></div></div></div></div><div><div class=\"ZINbbc xpd O9g5cc uUPGi\"><div class=\"kCrYT\"><a href=\"/url?q=https://drd.com.br/tag/prorecicle/&amp;sa=U&amp;ved=2ahUKEwjPvqmZxJr1AhU7JrkGHRvRB24QFnoECAMQAg&amp;usg=AOvVaw36tRh3Mpjo23edSe2gRB1F\"><h3 class=\"zBAuLc l97dzf\"><div class=\"BNeawe vvjwJb AP7Wnd\">ProRecicle Archives - Diário do Rio Doce</div></h3><div class=\"BNeawe UPmit AP7Wnd\">drd.com.br › tag › prorecicle</div></a></div><div class=\"x54gtf\"></div><div class=\"kCrYT\"><div><div class=\"BNeawe s3v9rd AP7Wnd\"><div><div><div class=\"BNeawe s3v9rd AP7Wnd\">Tag: ProRecicle · Projeto de lei que cria ações de incentivo à reciclagem é sancionado · Institucional · Siga o DRD.</div></div></div></div></div></div></div></div><div><div class=\"ZINbbc xpd O9g5cc uUPGi\"><div class=\"kCrYT\"><a href=\"/url?q=https://monitormercantil.com.br/prorecicle-pl-que-incentiva-a-reciclagem-e-sancionado/&amp;sa=U&amp;ved=2ahUKEwjPvqmZxJr1AhU7JrkGHRvRB24QFnoECAIQAg&amp;usg=AOvVaw1CR8IzfTIOeKbYfJuZhZuq\"><h3 class=\"zBAuLc l97dzf\"><div class=\"BNeawe vvjwJb AP7Wnd\">ProRecicle: PL que incentiva a reciclagem é sancionado - Monitor ...</div></h3><div class=\"BNeawe UPmit AP7Wnd\">monitormercantil.com.br › Conjuntura</div></a></div><div class=\"x54gtf\"></div><div class=\"kCrYT\"><div><div class=\"BNeawe s3v9rd AP7Wnd\"><div><div><div class=\"BNeawe s3v9rd AP7Wnd\"><span class=\"xUrNXd UMOHqf\">9 de dez. de 2021</span><span class=\"xUrNXd UMOHqf\"> · </span>O Projeto de Lei nº 6545/19, que cria incentivos à indústria da reciclagem, estabelece o Fundo de Apoio para Ações Voltadas à Reciclagem ...</div></div></div></div></div></div></div></div><div><div class=\"ZINbbc xpd O9g5cc uUPGi\"><div class=\"kCrYT\"><a href=\"/url?q=https://in.gov.br/web/dou/-/lei-n-14.260-de-8-de-dezembro-de-2021-366014591&amp;sa=U&amp;ved=2ahUKEwjPvqmZxJr1AhU7JrkGHRvRB24QFnoECAoQAg&amp;usg=AOvVaw2W1rFelmnYTe8TELfiZMsN\"><h3 class=\"zBAuLc l97dzf\"><div class=\"BNeawe vvjwJb AP7Wnd\">LEI Nº 14.260, DE 8 DE DEZEMBRO DE 2021 - DOU - Imprensa ...</div></h3><div class=\"BNeawe UPmit AP7Wnd\">in.gov.br › web › lei-n-14.260-de-8-de-dezembro-de-2021-366014591</div></a></div><div class=\"x54gtf\"></div><div class=\"kCrYT\"><div><div class=\"BNeawe s3v9rd AP7Wnd\"><div><div><div class=\"BNeawe s3v9rd AP7Wnd\"><span class=\"xUrNXd UMOHqf\">9 de dez. de 2021</span><span class=\"xUrNXd UMOHqf\"> · </span>... cria o Fundo de Apoio para Ações Voltadas à Reciclagem (Favorecicle) e Fundos de Investimentos para Projetos de Reciclagem (ProRecicle).</div></div></div></div></div></div></div></div><div><div class=\"ZINbbc xpd O9g5cc uUPGi\"><div></div><div class=\"mEUgP\"><span><div class=\"BNeawe\">Pesquisas relacionadas</div></span></div><div class=\"x54gtf\"></div><div><div class=\"gGQDvd iIWm4b\"><a class=\"Q71vJc\" href=\"/search?ie=UTF-8&amp;q=Alian%C3%A7a+Reciclagem&amp;sa=X&amp;ved=2ahUKEwjPvqmZxJr1AhU7JrkGHRvRB24Q1QJ6BAgGEAI\"><accordion-entry-search-icon><span class=\"ieB2Dd WqQeqc LsF2v\"><span></span></span></accordion-entry-search-icon><div class=\"kjGX2\"><span><div class=\"BNeawe s3v9rd AP7Wnd lRVwie\">Aliança Reciclagem</div></span></div></a></div></div><div class=\"x54gtf\"></div><div><div class=\"gGQDvd iIWm4b\"><a class=\"Q71vJc\" href=\"/search?ie=UTF-8&amp;q=E-lixo&amp;sa=X&amp;ved=2ahUKEwjPvqmZxJr1AhU7JrkGHRvRB24Q1QJ6BAgGEAQ\"><accordion-entry-search-icon><span class=\"ieB2Dd WqQeqc LsF2v\"><span></span></span></accordion-entry-search-icon><div class=\"kjGX2\"><span><div class=\"BNeawe s3v9rd AP7Wnd lRVwie\">E-lixo</div></span></div></a></div></div><div class=\"x54gtf\"></div><div><div class=\"gGQDvd iIWm4b\"><a class=\"Q71vJc\" href=\"/search?ie=UTF-8&amp;q=Locais+para+reciclagem+de+papel&amp;sa=X&amp;ved=2ahUKEwjPvqmZxJr1AhU7JrkGHRvRB24Q1QJ6BAgGEAY\"><accordion-entry-search-icon><span class=\"ieB2Dd WqQeqc LsF2v\"><span></span></span></accordion-entry-search-icon><div class=\"kjGX2\"><span><div class=\"BNeawe s3v9rd AP7Wnd lRVwie\">Locais para reciclagem de papel</div></span></div></a></div></div><div class=\"x54gtf\"></div><div><div class=\"gGQDvd iIWm4b\"><a class=\"Q71vJc\" href=\"/search?ie=UTF-8&amp;q=Reciclagem+de+papel+sg&amp;sa=X&amp;ved=2ahUKEwjPvqmZxJr1AhU7JrkGHRvRB24Q1QJ6BAgGEAg\"><accordion-entry-search-icon><span class=\"ieB2Dd WqQeqc LsF2v\"><span></span></span></accordion-entry-search-icon><div class=\"kjGX2\"><span><div class=\"BNeawe s3v9rd AP7Wnd lRVwie\">Reciclagem de papel sg</div></span></div></a></div></div><div class=\"x54gtf\"></div><div><div class=\"gGQDvd iIWm4b\"><a class=\"Q71vJc\" href=\"/search?ie=UTF-8&amp;q=Lixo+rj&amp;sa=X&amp;ved=2ahUKEwjPvqmZxJr1AhU7JrkGHRvRB24Q1QJ6BAgGEAo\"><accordion-entry-search-icon><span class=\"ieB2Dd WqQeqc LsF2v\"><span></span></span></accordion-entry-search-icon><div class=\"kjGX2\"><span><div class=\"BNeawe s3v9rd AP7Wnd lRVwie\">Lixo rj</div></span></div></a></div></div><div class=\"x54gtf\"></div><div><div class=\"gGQDvd iIWm4b\"><a class=\"Q71vJc\" href=\"/search?ie=UTF-8&amp;q=Como+descartar+nobreak&amp;sa=X&amp;ved=2ahUKEwjPvqmZxJr1AhU7JrkGHRvRB24Q1QJ6BAgGEAw\"><accordion-entry-search-icon><span class=\"ieB2Dd WqQeqc LsF2v\"><span></span></span></accordion-entry-search-icon><div class=\"kjGX2\"><span><div class=\"BNeawe s3v9rd AP7Wnd lRVwie\">Como descartar nobreak</div></span></div></a></div></div><div class=\"x54gtf\"></div><div><div class=\"gGQDvd iIWm4b\"><a class=\"Q71vJc\" href=\"/search?ie=UTF-8&amp;q=Pr%C3%B3recicle+ambiental&amp;sa=X&amp;ved=2ahUKEwjPvqmZxJr1AhU7JrkGHRvRB24Q1QJ6BAgGEA4\"><accordion-entry-search-icon><span class=\"ieB2Dd WqQeqc LsF2v\"><span></span></span></accordion-entry-search-icon><div class=\"kjGX2\"><span><div class=\"BNeawe s3v9rd AP7Wnd lRVwie\">Prórecicle ambiental</div></span></div></a></div></div><div class=\"x54gtf\"></div><div><div class=\"gGQDvd iIWm4b\"><a class=\"Q71vJc\" href=\"/search?ie=UTF-8&amp;q=Onde+descartar+lixo+eletr%C3%B4nico+Barra+da+Tijuca&amp;sa=X&amp;ved=2ahUKEwjPvqmZxJr1AhU7JrkGHRvRB24Q1QJ6BAgGEBA\"><accordion-entry-search-icon><span class=\"ieB2Dd WqQeqc LsF2v\"><span></span></span></accordion-entry-search-icon><div class=\"kjGX2\"><span><div class=\"BNeawe s3v9rd AP7Wnd lRVwie\">Onde descartar lixo eletrônico Barra da Tijuca</div></span></div></a></div></div></div></div><footer> <div> <div class=\"ZINbbc xpd O9g5cc uUPGi BmP5tf\"><div class=\"nMymef MUxGbd lyLwlc\"><a aria-label=\"Próxima página\" class=\"nBDE1b G5eFlf\" href=\"/search?q=ProRecicle&amp;ie=UTF-8&amp;ei=YITVYc-OIrvM5OUPm6Kf8AY&amp;start=10&amp;sa=N\">Mais &gt;</a></div></div> </div> <div id=\"EOlPnc\"><div class=\"Srfpq\"><span class=\"unknown_loc\"></span><span id=\"xxxXMc\">Pampulha, Belo Horizonte - MG</span><span id=\"ttWoPb\"> - </span><span>Do seu endereço IP</span><span> - </span><a href=\"/url?q=https://support.google.com/websearch%3Fp%3Dws_settings_location%26hl%3Dpt-BR&amp;sa=U&amp;ved=0ahUKEwjPvqmZxJr1AhU7JrkGHRvRB24Qty4IXw&amp;usg=AOvVaw17MOHhuNVrBAq0cttav01K\">Saiba mais</a></div><div><a href=\"/url?q=https://accounts.google.com/ServiceLogin%3Fcontinue%3Dhttps://www.google.com/search%253Fq%253DProRecicle%26hl%3Dpt-BR&amp;sa=U&amp;ved=0ahUKEwjPvqmZxJr1AhU7JrkGHRvRB24Qxs8CCGA&amp;usg=AOvVaw2dcQuJ9CFJerHo_hu5BSFk\">Fazer login</a></div><div><a class=\"xeDNfc\" href=\"https://www.google.com/preferences?hl=pt-BR&amp;fg=1&amp;sa=X&amp;ved=0ahUKEwjPvqmZxJr1AhU7JrkGHRvRB24Q5fUCCGE\">Configurações</a><a class=\"xeDNfc\" href=\"https://policies.google.com/privacy?hl=pt-BR&amp;fg=1\">Privacidade</a><a class=\"xeDNfc\" href=\"https://policies.google.com/terms?hl=pt-BR&amp;fg=1\">Termos</a></div></div> </footer><script nonce=\"L4D+en/JtaQquyX4Rssvyw==\">(function(){var hl='pt-BR';(function(){\n",
      "var f=this||self,g=function(a){return a};var h,k=function(){if(void 0===h){var a=null,b=f.trustedTypes;if(b&&b.createPolicy){try{a=b.createPolicy(\"goog#html\",{createHTML:g,createScript:g,createScriptURL:g})}catch(c){f.console&&f.console.error(c.message)}h=a}else h=a}return h};var n=function(a,b){this.h=a===l&&b||\"\";this.g=m},p=function(a){return a instanceof n&&a.constructor===n&&a.g===m?a.h:\"type_error:Const\"},m={},l={};var r=function(a,b){this.g=b===q?a:\"\"};r.prototype.toString=function(){return this.g+\"\"};var t=function(a){return a instanceof r&&a.constructor===r?a.g:\"type_error:TrustedResourceUrl\"},x=function(){var a={},b=p(new n(l,\"/complete/search\"));if(!u.test(b))throw Error(\"a`\"+b);var c=b.replace(v,function(e,d){if(!Object.prototype.hasOwnProperty.call(a,d))throw Error(\"b`\"+d+\"`\"+b+\"`\"+JSON.stringify(a));e=a[d];return e instanceof n?p(e):encodeURIComponent(String(e))});return w(c)},v=/%{(\\w+)}/g,u=RegExp(\"^((https:)?//[0-9a-z.:[\\\\]-]+/|/[^/\\\\\\\\]|[^:/\\\\\\\\%]+/|[^:/\\\\\\\\%]*[?#]|about:blank#)\",\"i\"),y=/^([^?#]*)(\\?[^#]*)?(#[\\s\\S]*)?/,q={},w=function(a){var b=k();a=b?b.createScriptURL(a):a;return new r(a,q)},z=function(a,b,c){if(null==c)return b;if(\"string\"===typeof c)return c?a+encodeURIComponent(c):\"\";for(var e in c)if(Object.prototype.hasOwnProperty.call(c,e)){var d=c[e];d=Array.isArray(d)?d:[d];for(var D=0;D<d.length;D++){var P=d[D];null!=P&&(b||(b=a),b+=(b.length>a.length?\"&\":\"\")+encodeURIComponent(e)+\"=\"+encodeURIComponent(String(P)))}}return b};var A={},B=function(a,b,c){this.g=c===A?a:\"\"};B.prototype.toString=function(){return this.g.toString()};var C=function(a){var b=k();a=b?b.createHTML(a):a;return new B(a,null,A)};\n",
      "function E(a,b){if(null!==a&&void 0!==a.tagName){if(\"script\"===a.tagName.toLowerCase())throw Error(\"c\");if(\"style\"===a.tagName.toLowerCase())throw Error(\"d\");}a.innerHTML=b instanceof B&&b.constructor===B?b.g:\"type_error:SafeHtml\"};var F=document.querySelector(\".l\"),G=document.querySelector(\"#sf\"),H=G.querySelector(\".sbc\"),I=G.querySelector(\"[type=text]\"),J=G.querySelector(\"[type=submit]\"),K=G.querySelector(\".sc\"),L=G.querySelector(\".x\"),M=I.value,N=[],O=-1,Q=M,R,S,T;M||(L&&(L.style.display=\"none\"),U(!1));function U(a){if(H.classList.contains(\"esbc\")){var b=H.classList.contains(\"chsbc\"),c=H.classList.contains(\"rtlsbc\");a&&(K.style.display=\"block\",b?(G.style.borderRadius=\"20px 20px 0 0\",K.style.borderBottom=\"1px solid #DFE1E5\",J.style.borderRadius=c?\"20px 0 0 0\":\"0 20px 0 0\"):H.style.borderRadius=c?\"0 8px 0 0\":\"8px 0 0 0\");a||(K.style.display=\"none\",b?(G.style.borderRadius=\"20px\",K.style.borderBottom=\"none\",J.style.borderRadius=c?\"20px 0 0 20px\":\"0 20px 20px 0\"):H.style.borderRadius=c?\"0 8px 8px 0\":\"8px 0 0 8px\")}}function V(){G.querySelector(\"[name=oq]\").value=Q;G.querySelector(\"[name=aqs]\").value=\"heirloom-srp.\"+(0<=O?O:\"\")+\".\"+(0<N.length?\"0l\"+N.length:\"\")}\n",
      "function W(){R=null;if(S){var a={client:\"heirloom-srp\",hl:hl,json:\"t\",callback:\"hS\",q:S};\"undefined\"!==typeof ds&&ds&&(a.ds=ds);var b=document;var c=\"SCRIPT\";\"application/xhtml+xml\"===b.contentType&&(c=c.toLowerCase());c=b.createElement(c);b=x();b=y.exec(t(b).toString());var e=b[3]||\"\";a=w(b[1]+z(\"?\",b[2]||\"\",a)+z(\"#\",e,void 0));c.src=t(a);var d;a=(c.ownerDocument&&c.ownerDocument.defaultView||window).document;(d=(b=null===(d=a.querySelector)||void 0===d?void 0:d.call(a,\"script[nonce]\"))?b.nonce||\n",
      "b.getAttribute(\"nonce\")||\"\":\"\")&&c.setAttribute(\"nonce\",d);document.body.appendChild(c);S=null;R=setTimeout(W,500)}}function X(){for(;K.firstChild;)K.removeChild(K.firstChild);N=[];O=-1;U(!1)}function Y(){var a=K.querySelector(\".scs\");a&&(a.className=\"\");0<=O?(a=K.childNodes[O],a.className=\"scs\",M=a.textContent):M=Q;I.value=M}I.addEventListener(\"focus\",function(){F&&(F.style.display=\"none\")},!1);I.addEventListener(\"blur\",function(){X();F&&(F.style.display=\"\")},!1);I.addEventListener(\"keyup\",function(a){M=I.value;T=!1;13===a.which?V():27===a.which?(X(),F&&(F.style.display=\"\"),M=Q,I.value=M):40===a.which?(O++,O>=N.length&&(O=-1),Y()):38===a.which?(O--,-1>O&&(O=N.length-1),Y()):(a=M)?(L&&(L.style.display=\"\"),S=a,R||W(),Q=a):(L&&(L.style.display=\"none\"),U(!1),X(),Q=\"\",T=!0)},!1);J.addEventListener(\"click\",V,!1);L.addEventListener(\"click\",function(){I.value=\"\";L.style.display=\"none\";U(!1)},!1);H.addEventListener(\"click\",function(){I.focus()},!1);window.hS=function(a){if(!T){X();0===a[1].length&&U(!1);for(var b=0;b<a[1].length;b++){var c=a[1][b][0],e=document.createElement(\"div\");E(e,C(c));e.addEventListener(\"mousedown\",function(d){d.preventDefault();return!1},!1);c=c.replace(/<\\/?b>/g,\"\");e.addEventListener(\"click\",function(d){return function(){O=d;V();Y();X();G.submit()}}(b),!1);e.addEventListener(\"mouseover\",function(d){return function(){O!==d&&(O=d,Y())}}(b),!1);K.appendChild(e);U(!0);N.push(c)}}};}).call(this);})();(function(){\n",
      "function b(a){for(a=a.target||a.srcElement;a&&\"A\"!==a.nodeName;)a=a.parentElement;a&&(a.href||\"\").match(/\\/search.*[?&]tbm=isch/)&&(a.href+=\"&biw=\"+document.documentElement.clientWidth,a.href+=\"&bih=\"+document.documentElement.clientHeight)}document.addEventListener(\"click\",b,!1);document.addEventListener(\"touchStart\",b,!1);}).call(this);</script></div><!-- cctlcm 5 cctlcm --><textarea class=\"csi\" name=\"csi\" style=\"display:none\"></textarea><script nonce=\"L4D+en/JtaQquyX4Rssvyw==\">(function(){var e='YITVYc-OIrvM5OUPm6Kf8AY';var sn='web';var timl=false;(function(){\n",
      "function y(a){if(!a||z(a))return 0;if(!a.getBoundingClientRect)return 1;var c=function(b){return b.getBoundingClientRect()};return A(a,c)?0:I(a,c)}function A(a,c){var b;a:{for(b=a;b&&null!==b;b=b.parentElement)if(\"hidden\"===b.style.overflow)break a;b=null}if(!b)return!1;a=c(a);c=c(b);return a.bottom<c.top||a.top>=c.bottom||a.right<c.left||a.left>=c.right}\n",
      "function z(a){return\"none\"===a.style.display?!0:document.defaultView&&document.defaultView.getComputedStyle?(a=document.defaultView.getComputedStyle(a),!!a&&(\"hidden\"===a.visibility||\"0px\"===a.height&&\"0px\"===a.width)):!1}\n",
      "function I(a,c){var b=c(a);a=b.left+window.pageXOffset;c=b.top+window.pageYOffset;var f=b.width;b=b.height;var g=0;if(0>=b&&0>=f)return g;var p=window.innerHeight||document.documentElement.clientHeight;0>c+b?g=2:c>=p&&(g=4);if(0>a+f||a>=(window.innerWidth||document.documentElement.clientWidth))g|=8;g||(g=1,c+b>p&&(g|=4));return g};var J=e,K=sn,L=\"undefined\"===typeof de?!0:!1!==de,M=[];function N(a,c,b){a=\"/gen_204?atyp=csi&s=\"+(K||\"web\")+\"&t=\"+a+(\"&lite=1&ei=\"+J+\"&conn=\"+(window.navigator&&window.navigator.connection?window.navigator.connection.type:-1)+c);c=\"&rt=\";for(var f in b)a+=\"\"+c+f+\".\"+b[f],c=\",\";return a}function O(a){a={prt:a};window.wsrt&&(a.wsrt=window.wsrt);return a}function P(a){window.ping?window.ping(a):(new Image).src=a}\n",
      "(function(){for(var a=(new Date).getTime()-window.start,c=O(a),b=0,f=0,g=0,p=document.getElementsByTagName(\"img\"),q=L?\"&biw=\"+window.innerWidth+\"&bih=\"+window.innerHeight:\"\",Q=function(h,r){h.onload=function(){f=(new Date).getTime()-window.start;r&&++u==g&&(b=f,B());h.onload=null}},B=function(){q+=\"&ima=\"+g;c.aft=b;P(N(\"aft\",q,c))},u=0,R=0,d=void 0;d=p[R++];){var t=y(d),n=!!(t&1);n&&++g;var m=d.hasAttribute(\"data-ilite\"),v=d.hasAttribute(\"data-deferred\")||m,C=d.getAttribute(\"data-src\")||d.getAttribute(\"data-lzysrc\"),D=!v&&C;M.push([t,v,D,google.ldi&&d.id&&google.ldi[d.id]||m&&C]);m=(t=d.complete&&(m||!v&&!(n&&D)))&&Number(d.getAttribute(\"data-iml\"))||0;t&&m?(n&&++u,m&&(d=m-window.start,n&&(b=Math.max(b,d)),f=Math.max(f,d))):Q(d,n)}b||(b=a);f||(f=b);u==g&&B();google.rglh&&google.rglh();window.addEventListener(\"load\",function(){window.setTimeout(function(){c.ol=(new Date).getTime()-window.start;timl&&(c.iml=f);var h=window.performance&&window.performance.timing;h&&(c.rqst=h.responseEnd-h.requestStart,c.rspt=h.responseEnd-\n",
      "h.responseStart);for(var r=h=0,E=0,F=0,G=0,S=0,k;k=M[S++];){var l=k[0],w=k[1],T=k[2];k=k[3];var U=0==l,x=l&8,H=l&4;l=1==l||2==l||x&&!H;!l||x||w&&!k||++E;w&&(l&&k&&++h,H&&!k&&++r);U||x?T||++G:w||++F}q+=\"&ime=\"+E+(\"&imex=\"+F+\"&imeh=\"+G)+(\"&imea=\"+h+\"&imeb=\"+r);P(N(\"all\",q,c))},0)},!1)})();}).call(this);})();</script><script nonce=\"L4D+en/JtaQquyX4Rssvyw==\">\n",
      "function _setImagesSrc(e,d){function f(b){b.onerror=function(){b.style.display=\"none\"};b.src=d}for(var g=0,a=void 0;a=e[g++];){var c=document.getElementById(a)||document.querySelector('img[data-iid=\"'+a+'\"]');c?(a=void 0,(null==(a=google.c)?0:a.setup)&&google.c.setup(c),f(c)):(google.iir=google.iir||{},google.iir[a]=d)}}\"undefined\"==typeof window.google&&(window.google={});</script><script nonce=\"L4D+en/JtaQquyX4Rssvyw==\">(function(){var s='data:image/jpeg;base64,/9j/4AAQSkZJRgABAQAAAQABAAD/4QAqRXhpZgAASUkqAAgAAAABADEBAgAHAAAAGgAAAAAAAABHb29nbGUAAP/bAIQAAwICAgICAgICAgICAgICCAICAgICCgcHBggCCgICAgoCAgICBgUCAgUCAgIFCgUFBwgJCQkCAwsMCggMBggJCAEDBAQCAgIJAgIJCAICAggICAgICAgICAgICAgICAgICAgICAgICAgICAgICAgICAgICAgICAgICAgICAgICAgI/8AAEQgASABIAwERAAIRAQMRAf/EABUAAQEAAAAAAAAAAAAAAAAAAAAJ/8QAFBABAAAAAAAAAAAAAAAAAAAAAP/EABQBAQAAAAAAAAAAAAAAAAAAAAD/xAAUEQEAAAAAAAAAAAAAAAAAAAAA/9oADAMBAAIRAxEAPwCqYAAAAAAAAAAAAAAAAAAAAAAAAAAAAAAAAAAAAAAAAAAAAAAAAAAAAAAAAAAAAAAAAAAAAAAAAAAAAAAAAP/Z';var i=['dimg_1'];_setImagesSrc(i,s);})();</script><script nonce=\"L4D+en/JtaQquyX4Rssvyw==\">(function(){var s='data:image/png;base64,iVBORw0KGgoAAAANSUhEUgAAADAAAAAwBAMAAAClLOS0AAAAMFBMVEVChfRChfRChfRChfRChfRChfRChfRChfRChfRChfRChfRChfRChfRChfRChfRChfTP4QxqAAAAD3RSTlMAV+zrVFv8gKwUU+fl+1Ddcms0AAAAtElEQVR4Xr3NoQ0CURBF0UEQLEHQBgYPihLwWMyWgMbRB72g0JSBATIk8//LTV5W77M3ZyYm3mo7HubDezkajpmncZAp4gBiAGIAYgBiAGIA4gDi4CLiYCFiIAMCqFAEQBABXBsWAdzkIet+hJDnCpseOJWfCrseKhfIb4UDIRvIV4XZQGjgtw99V2jgGSGiAOhEAQCpASAOIA4gACcAJwAnAAjACcAIwAnACMCJgO/+iGn3B1LoV1bI8vckAAAAAElFTkSuQmCC';var i=['dimg_3'];_setImagesSrc(i,s);})();</script><script nonce=\"L4D+en/JtaQquyX4Rssvyw==\">(function(){var s='data:image/png;base64,iVBORw0KGgoAAAANSUhEUgAAADAAAAAwCAMAAABg3Am1AAABVlBMVEVChfRChfRChfRChfRChfRChfRChfRChfRChfRChfRChfRChfRChfRChfRChfRChfRChfRChfRChfRChfRChfRChfRChfRChfRChfRChfRChfRChfRChfRChfRChfRChfRChfRChfRChfRChfRChfRChfRChfRChfRChfRChfRChfRChfRChfRChfRChfRChfRChfRChfRChfRChfRChfRChfRChfRChfRChfRChfRChfRChfRChfRChfRChfRChfRChfRChfRChfRChfRChfRChfRChfRChfRChfRChfRChfRChfRChfRChfRChfRChfRChfRChfRChfRChfRChfRChfRChfRChfRChfRChfRChfRChfRChfRChfRChfRChfRChfRChfRChfRChfRChfRChfRChfRChfRChfRChfRChfRChfRChfRChfRChfRChfRChfRChfTpT98bAAAAcXRSTlMAAjl6rtTt+nk4Horl5IgdFpv5mBRd7lkFnQQKuGHZtfNy9ZyvK9smzljv7BP2lnMb2odk4gHoCfI2Tad4yGarMYA10hEV6+pP6TRlZ6aqdwto4YkG34Z19LF7+Br3LbIkM5PeKPC7VS+UswMMrWo6HJh0w+MAAAHlSURBVHhe3dBrU9NAAIXhE2iTchNIaltTlYpQVCoqUAuKVtraekcqoFi8gYqCt/3/N890MjvZzSb9zvvtzOyT2SzOZNbQcCptO46dTmVGrIFgdGxchJo4N5kIpqYdoeV62XhwPicM2XmYK1wQMXm+CRQvimiXLvfHTNHwfdP5Evwrs33hQ++qMDQHYL4smBf5X2EotwCWvSbYde09bxjuM8fzfVHmWqwoYFqoQWn+JsVSGIw6iQC3CNzbITAmkoF/h2IZMmt8AMAKwWpVziGhdVcHtTWKdTmH9fP3oHefYEOuFNeDAMDcQ4K6XGmuR5uJoEHQlMvmamEzCTwmaMvlcFmgiAcFAlcBBYBCrfNEAl8BNlcFBvE05kpprmcwiZifTnE9hxQm8EJ51gzXS0hhAq84tuQa4VqrSWEAr0scDQmsCc4VBJnANke3Ctkb7nIhHuzscuxBhkmH4m0w3olws/sLwHuO3gFCeQQfPqLfJ6GW+/zF5ThEuKxNcTQFhq/fNPG9y9FpQSkvWDMQ+yUR6RhanmC7P4IVAT+h588I1svsGMHJKSIVKdjR9q8oOKnBkO8FD/n7z1/tPqcwl18UhjrHiK2y5Oqgd9hCUv+WV8Ogu3eAQVnrG/Vm23XbzfpWo4qz2H/PsWmExFfJAQAAAABJRU5ErkJggg\\x3d\\x3d';var i=['dimg_5'];_setImagesSrc(i,s);})();</script><script nonce=\"L4D+en/JtaQquyX4Rssvyw==\">(function(){var e='YITVYc-OIrvM5OUPm6Kf8AY';(function(){\n",
      "var a=e;2===(window.performance&&window.performance.navigation&&window.performance.navigation.type)&&window.ping(\"/gen_204?ct=backbutton&ei=\"+a);}).call(this);})();(function(){\n",
      "var b=[function(){google.tick&&google.tick(\"load\",\"dcl\")}];google.dclc=function(a){b.length?b.push(a):a()};function c(){for(var a=b.shift();a;)a(),a=b.shift()}window.addEventListener?(document.addEventListener(\"DOMContentLoaded\",c,!1),window.addEventListener(\"load\",c,!1)):window.attachEvent&&window.attachEvent(\"onload\",c);}).call(this);\n",
      "window.jsl=window.jsl||{};window.jsl.dh=function(d,e,c){try{var f=document.getElementById(d);if(f)f.innerHTML=e,c&&c();else{var a={id:d,script:String(!!c),milestone:String(google.jslm||0)};google.jsla&&(a.async=google.jsla);var g=document.createElement(\"div\");g.innerHTML=e;var b=g.children[0];b&&(a.tag=b.tagName,a[\"class\"]=String(b.className||null),a.name=String(b.getAttribute(\"jsname\")));google.ml(Error(\"Missing ID.\"),!1,a)}}catch(h){google.ml(h,!0,{\"jsl.dh\":!0})}};(function(){var x=false;\n",
      "google.jslm=x?2:1;})();(function(){(function(){google.csct={};google.csct.ps='AOvVaw2_-SoSlcjGxnAaL_k8W0Vu\\x26ust\\x3d1641469408595123';})();})();(function(){(function(){google.csct.rd=true;})();})();(function(){(function(){google.csct.rl=true;})();})();google.drty&&google.drty(undefined,true);</script></body></html>\n"
     ]
    }
   ],
   "source": [
    "import requests \n",
    "import bs4 \n",
    "  \n",
    "text= \"ProRecicle\"\n",
    "url = 'https://google.com/search?q=' + text \n",
    "request_result=requests.get( url ) \n",
    "soup = bs4.BeautifulSoup(request_result.text, \n",
    "                         \"html.parser\") \n",
    "print(soup)"
   ]
  },
  {
   "cell_type": "code",
   "execution_count": 30,
   "metadata": {},
   "outputs": [
    {
     "name": "stdout",
     "output_type": "stream",
     "text": [
      "Prórecicle Ambiental\n",
      "------\n",
      "Pro Recicle Ambiental\n",
      "------\n",
      "ProRecicle | Agência Brasil\n",
      "------\n",
      "Prórecicle Ambiental Transportes e Recicláveis | LinkedIn\n",
      "------\n",
      "Prórecicle Ambiental (@prorecicle) • Instagram photos and videos\n",
      "------\n",
      "Prórecicle Ambiental Transportes e Recicláveis - Posts | Facebook\n",
      "------\n",
      "Bolsonaro sanciona lei que estabelece incentivos à indústria da ...\n",
      "------\n",
      "ProRecicle Archives - Diário do Rio Doce\n",
      "------\n",
      "ProRecicle: PL que incentiva a reciclagem é sancionado - Monitor ...\n",
      "------\n",
      "LEI Nº 14.260, DE 8 DE DEZEMBRO DE 2021 - DOU - Imprensa ...\n",
      "------\n"
     ]
    }
   ],
   "source": [
    "ler_cabecalho_principal=soup.find_all( 'h3' ) \n",
    "for i in ler_cabecalho_principal: \n",
    "    print(i.getText()) \n",
    "    print(\"------\") \n",
    "    \n",
    "# junto com o titulos + link     "
   ]
  },
  {
   "cell_type": "code",
   "execution_count": null,
   "metadata": {},
   "outputs": [],
   "source": []
  },
  {
   "cell_type": "code",
   "execution_count": 31,
   "metadata": {},
   "outputs": [
    {
     "name": "stdout",
     "output_type": "stream",
     "text": [
      "Partido Liberal (PL) - Notícias e tudo sobre | CNN Brasil\n"
     ]
    }
   ],
   "source": [
    "def search_google(text):\n",
    "\n",
    "    url = 'https://google.com/search?q=' + text \n",
    "    request_result=requests.get( url ) \n",
    "    soup = bs4.BeautifulSoup(request_result.text, \"html.parser\") \n",
    "    ler_cabecalho_principal=soup.find_all( 'h3' ) \n",
    "    for i in ler_cabecalho_principal: \n",
    "        i = i.getText()\n",
    "    return i  \n",
    "\n",
    "\n",
    "text = 'PL Partido'\n",
    "\n",
    "print(search_google(text))"
   ]
  },
  {
   "cell_type": "markdown",
   "metadata": {
    "id": "5HoU2yDWKNp4"
   },
   "source": [
    "### Findall"
   ]
  },
  {
   "cell_type": "code",
   "execution_count": 32,
   "metadata": {},
   "outputs": [],
   "source": [
    "string = \"frase que será analisada pelo regex porque regex é legal e útil\""
   ]
  },
  {
   "cell_type": "code",
   "execution_count": 33,
   "metadata": {
    "colab": {
     "base_uri": "https://localhost:8080/"
    },
    "id": "WWF6-oKrKK4a",
    "outputId": "10c6e378-a85d-4cb5-ad00-88821396a3e6"
   },
   "outputs": [
    {
     "data": {
      "text/plain": [
       "['regex', 'regex']"
      ]
     },
     "execution_count": 33,
     "metadata": {},
     "output_type": "execute_result"
    }
   ],
   "source": [
    "re.findall('regex', string)"
   ]
  },
  {
   "cell_type": "code",
   "execution_count": 34,
   "metadata": {
    "colab": {
     "base_uri": "https://localhost:8080/"
    },
    "id": "5wX2W37IKtx-",
    "outputId": "eff3c26b-bf2e-4ff0-b684-20951ce58bb0"
   },
   "outputs": [
    {
     "data": {
      "text/plain": [
       "['que', 'que']"
      ]
     },
     "execution_count": 34,
     "metadata": {},
     "output_type": "execute_result"
    }
   ],
   "source": [
    "re.findall('que', string)"
   ]
  },
  {
   "cell_type": "code",
   "execution_count": 35,
   "metadata": {
    "colab": {
     "base_uri": "https://localhost:8080/"
    },
    "id": "YWlkiOipLHAu",
    "outputId": "dbb4d86c-fbaa-4359-91ea-a36df2b38110"
   },
   "outputs": [
    {
     "data": {
      "text/plain": [
       "['frase']"
      ]
     },
     "execution_count": 35,
     "metadata": {},
     "output_type": "execute_result"
    }
   ],
   "source": [
    "re.findall('frase', string)"
   ]
  },
  {
   "cell_type": "code",
   "execution_count": 36,
   "metadata": {},
   "outputs": [],
   "source": [
    "cpf_sem_pontuacao = r\"\\d{3}\\d{3}\\d{3}\\d{2}\" \n",
    "rg_sp = r\"\\{2}\\.\\d{3}\\.\\d{3}\\-\\d{1}\""
   ]
  },
  {
   "cell_type": "code",
   "execution_count": 37,
   "metadata": {},
   "outputs": [
    {
     "name": "stdout",
     "output_type": "stream",
     "text": [
      "['301.568.345-88']\n"
     ]
    }
   ],
   "source": [
    "def get_cpfs(text):\n",
    "\n",
    "    pattern = r\"\\d{3}\\.\\d{3}\\.\\d{3}-\\d{2}\"\n",
    "\n",
    "    return re.findall(pattern, text)\n",
    "\n",
    "text = 'Maria chica da Rocinha 301.568.345-88'\n",
    "print(get_cpfs(text))"
   ]
  },
  {
   "cell_type": "markdown",
   "metadata": {
    "id": "yudBnX91LJHF"
   },
   "source": [
    "### Finditer"
   ]
  },
  {
   "cell_type": "code",
   "execution_count": 38,
   "metadata": {
    "colab": {
     "base_uri": "https://localhost:8080/"
    },
    "id": "2T1avbmdLMbl",
    "outputId": "ea49ed95-5596-41af-c21a-63baca1f2d9e"
   },
   "outputs": [
    {
     "data": {
      "text/plain": [
       "<callable_iterator at 0x7f2554cc49a0>"
      ]
     },
     "execution_count": 38,
     "metadata": {},
     "output_type": "execute_result"
    }
   ],
   "source": [
    "re.finditer('regex', string)"
   ]
  },
  {
   "cell_type": "code",
   "execution_count": 39,
   "metadata": {
    "colab": {
     "base_uri": "https://localhost:8080/"
    },
    "id": "Y2QgWQK-LRUw",
    "outputId": "1039225b-de1c-48e4-d353-1caacb5e11cb"
   },
   "outputs": [
    {
     "name": "stdout",
     "output_type": "stream",
     "text": [
      "<re.Match object; span=(30, 35), match='regex'>\n",
      "<re.Match object; span=(43, 48), match='regex'>\n"
     ]
    }
   ],
   "source": [
    "for i in re.finditer('regex', string):\n",
    "    print(i)"
   ]
  },
  {
   "cell_type": "code",
   "execution_count": 40,
   "metadata": {
    "colab": {
     "base_uri": "https://localhost:8080/"
    },
    "id": "ivlSxPIrLMbt",
    "outputId": "e9f06fea-f85d-49ac-da42-6b7c2f26eb3d"
   },
   "outputs": [
    {
     "data": {
      "text/plain": [
       "<callable_iterator at 0x7f258c384550>"
      ]
     },
     "execution_count": 40,
     "metadata": {},
     "output_type": "execute_result"
    }
   ],
   "source": [
    "re.finditer('analisada', string)"
   ]
  },
  {
   "cell_type": "code",
   "execution_count": 41,
   "metadata": {
    "colab": {
     "base_uri": "https://localhost:8080/"
    },
    "id": "PP5VOxganwPv",
    "outputId": "7a7a3a60-2948-4186-fc6a-5be1b2cc6fbb"
   },
   "outputs": [
    {
     "name": "stdout",
     "output_type": "stream",
     "text": [
      "<re.Match object; span=(15, 24), match='analisada'>\n"
     ]
    }
   ],
   "source": [
    "for i in re.finditer('analisada', string):\n",
    "    print(i)"
   ]
  },
  {
   "cell_type": "markdown",
   "metadata": {
    "id": "BaTnLOSjn2Fb"
   },
   "source": [
    "### Sub"
   ]
  },
  {
   "cell_type": "code",
   "execution_count": 42,
   "metadata": {
    "colab": {
     "base_uri": "https://localhost:8080/",
     "height": 35
    },
    "id": "NlxQUK5fn3S1",
    "outputId": "375e43c4-2e7f-4c7d-8ac1-f6eb715b456c"
   },
   "outputs": [
    {
     "data": {
      "text/plain": [
       "'frase que será avaliada pelo regex porque regex é legal e útil'"
      ]
     },
     "execution_count": 42,
     "metadata": {},
     "output_type": "execute_result"
    }
   ],
   "source": [
    "re.sub('analisada', 'avaliada', string)"
   ]
  },
  {
   "cell_type": "code",
   "execution_count": 43,
   "metadata": {
    "colab": {
     "base_uri": "https://localhost:8080/",
     "height": 35
    },
    "id": "aYHRyNWXDUkK",
    "outputId": "ac57d507-445e-4d4b-b696-1bb64c7b541f"
   },
   "outputs": [
    {
     "data": {
      "text/plain": [
       "'pedro gosta de banana mas pedro não gosta de quiabo'"
      ]
     },
     "execution_count": 43,
     "metadata": {},
     "output_type": "execute_result"
    }
   ],
   "source": [
    "string = 'naiara gosta de banana mas naiara não gosta de quiabo'\n",
    "\n",
    "re.sub('naiara','pedro',string)"
   ]
  },
  {
   "cell_type": "code",
   "execution_count": 44,
   "metadata": {
    "id": "GNMMsK_HsusL"
   },
   "outputs": [],
   "source": [
    "lista = [ 'www.google.com', 'https://www.google.com', 'google.com.br' ]"
   ]
  },
  {
   "cell_type": "code",
   "execution_count": 45,
   "metadata": {
    "colab": {
     "base_uri": "https://localhost:8080/"
    },
    "id": "jVTt6AA5sOdA",
    "outputId": "5a8341a7-bef1-4c10-af0c-2435f3605e94"
   },
   "outputs": [
    {
     "name": "stdout",
     "output_type": "stream",
     "text": [
      "<re.Match object; span=(0, 3), match='www'>\n",
      "None\n",
      "None\n"
     ]
    }
   ],
   "source": [
    "for string in lista:\n",
    "    print(re.search(\"^www\", string))"
   ]
  },
  {
   "cell_type": "code",
   "execution_count": 46,
   "metadata": {
    "colab": {
     "base_uri": "https://localhost:8080/"
    },
    "id": "tO1k7Dtvsvid",
    "outputId": "4409c14e-a41c-4744-83f5-4697c6e7ac6e"
   },
   "outputs": [
    {
     "name": "stdout",
     "output_type": "stream",
     "text": [
      "<re.Match object; span=(11, 14), match='com'>\n",
      "<re.Match object; span=(19, 22), match='com'>\n",
      "None\n"
     ]
    }
   ],
   "source": [
    "for string in lista:\n",
    "    print(re.search(\"com$\", string))"
   ]
  },
  {
   "cell_type": "code",
   "execution_count": 47,
   "metadata": {
    "colab": {
     "base_uri": "https://localhost:8080/"
    },
    "id": "74MBVhYBsyjH",
    "outputId": "87572e3d-a5c5-432e-90b3-65b1e41faea9"
   },
   "outputs": [
    {
     "name": "stdout",
     "output_type": "stream",
     "text": [
      "<re.Match object; span=(0, 6), match='naiara'>\n",
      "<re.Match object; span=(0, 6), match='naiara'>\n",
      "None\n",
      "None\n",
      "<re.Match object; span=(0, 6), match='naiars'>\n"
     ]
    }
   ],
   "source": [
    "lista = [ 'naiara', 'naiaraaaaaa', 'naaaaaaiara', 'naiar', 'naiars' ]\n",
    "\n",
    "for string in lista:\n",
    "    print(re.search(\"naiar.\", string))"
   ]
  },
  {
   "cell_type": "code",
   "execution_count": 48,
   "metadata": {
    "colab": {
     "base_uri": "https://localhost:8080/"
    },
    "id": "qijibwXtu56A",
    "outputId": "d3b54b54-adb2-4721-ea92-b243b60beec6"
   },
   "outputs": [
    {
     "name": "stdout",
     "output_type": "stream",
     "text": [
      "<re.Match object; span=(0, 6), match='naiara'>\n",
      "<re.Match object; span=(0, 6), match='naiara'>\n",
      "None\n",
      "<re.Match object; span=(0, 5), match='naiar'>\n",
      "<re.Match object; span=(0, 5), match='naiar'>\n"
     ]
    }
   ],
   "source": [
    "for string in lista:\n",
    "    print(re.search(\"naiara?\", string))"
   ]
  },
  {
   "cell_type": "code",
   "execution_count": 49,
   "metadata": {
    "colab": {
     "base_uri": "https://localhost:8080/"
    },
    "id": "OxJb-ku3vAH3",
    "outputId": "33bf791f-b9d3-450e-e2ef-eb31589a8426"
   },
   "outputs": [
    {
     "name": "stdout",
     "output_type": "stream",
     "text": [
      "<re.Match object; span=(0, 6), match='naiara'>\n",
      "<re.Match object; span=(0, 11), match='naiaraaaaaa'>\n",
      "None\n",
      "None\n",
      "None\n"
     ]
    }
   ],
   "source": [
    "for string in lista:\n",
    "    print(re.search(\"naiara+\", string))"
   ]
  },
  {
   "cell_type": "code",
   "execution_count": 50,
   "metadata": {
    "colab": {
     "base_uri": "https://localhost:8080/",
     "height": 35
    },
    "id": "t8jgOXkMxEW1",
    "outputId": "24c5e047-ba59-437d-911d-baa00497cb07"
   },
   "outputs": [
    {
     "data": {
      "text/plain": [
       "'essa é uma frase com espaços demais no final.'"
      ]
     },
     "execution_count": 50,
     "metadata": {},
     "output_type": "execute_result"
    }
   ],
   "source": [
    "string = 'essa é uma frase com espaços demais no final.                    '\n",
    "\n",
    "re.sub(\"\\s+$\", \"\", string)"
   ]
  },
  {
   "cell_type": "code",
   "execution_count": 51,
   "metadata": {
    "id": "jCCkqzEvy2xA"
   },
   "outputs": [],
   "source": [
    "string = \"A história do PLN começou na década de 1950, quando Alan Turing publicou o artigo Computing Machinery and Intelligence, que propunha o que agora é chamado de teste de Turing como critério de inteligência. Em 1954, a experiência de Georgetown envolveu a tradução automática de mais de sessenta frases russas para o inglês. Os autores afirmaram que dentro de três ou cinco anos a tradução automática seria um problema resolvido.[2] No entanto, os avanços reais foram muito mais lentos do que o previsto e, após o relatório ALPAC em 1966, que constatou que a pesquisa de dez anos não conseguiu satisfazer as expectativas, o financiamento para este estudo em tradução automática foi reduzido drasticamente. Poucas pesquisas em tradução automática foram conduzidas até o final dos anos 80, quando os primeiros sistemas estatísticos de tradução foram desenvolvidos.\""
   ]
  },
  {
   "cell_type": "code",
   "execution_count": 52,
   "metadata": {
    "colab": {
     "base_uri": "https://localhost:8080/"
    },
    "id": "gK8RIk-M0bpP",
    "outputId": "a6abc135-234c-421a-eb00-19f82f57d1c6"
   },
   "outputs": [
    {
     "data": {
      "text/plain": [
       "['A',\n",
       " 'P',\n",
       " 'L',\n",
       " 'N',\n",
       " 'A',\n",
       " 'T',\n",
       " 'C',\n",
       " 'M',\n",
       " 'I',\n",
       " 'T',\n",
       " 'E',\n",
       " 'G',\n",
       " 'O',\n",
       " 'N',\n",
       " 'A',\n",
       " 'L',\n",
       " 'P',\n",
       " 'A',\n",
       " 'C',\n",
       " 'P']"
      ]
     },
     "execution_count": 52,
     "metadata": {},
     "output_type": "execute_result"
    }
   ],
   "source": [
    "re.findall('[A-Z]',string)"
   ]
  },
  {
   "cell_type": "code",
   "execution_count": 53,
   "metadata": {
    "colab": {
     "base_uri": "https://localhost:8080/"
    },
    "id": "7ExPVrnt0cUr",
    "outputId": "5e8019bd-0656-47d0-ffe7-f8ef8f0632d2"
   },
   "outputs": [
    {
     "data": {
      "text/plain": [
       "['1', '9', '5', '0', '1', '9', '5', '4', '2', '1', '9', '6', '6', '8', '0']"
      ]
     },
     "execution_count": 53,
     "metadata": {},
     "output_type": "execute_result"
    }
   ],
   "source": [
    "re.findall('[0-9]',string)"
   ]
  },
  {
   "cell_type": "code",
   "execution_count": 54,
   "metadata": {
    "colab": {
     "base_uri": "https://localhost:8080/"
    },
    "id": "XaE6hqo81vjm",
    "outputId": "28295bcd-6b2f-4072-c8be-2579652a6263"
   },
   "outputs": [
    {
     "data": {
      "text/plain": [
       "['1950', '1954', '2', '1966', '80']"
      ]
     },
     "execution_count": 54,
     "metadata": {},
     "output_type": "execute_result"
    }
   ],
   "source": [
    "re.findall('[0-9]+',string)"
   ]
  },
  {
   "cell_type": "code",
   "execution_count": 55,
   "metadata": {
    "colab": {
     "base_uri": "https://localhost:8080/"
    },
    "id": "1LE62HNO2aox",
    "outputId": "b6ce9ba3-0e19-48d3-accb-7a5b8461da4b"
   },
   "outputs": [
    {
     "data": {
      "text/plain": [
       "['A',\n",
       " 'B',\n",
       " 'C',\n",
       " 'D',\n",
       " 'E',\n",
       " 'F',\n",
       " 'a',\n",
       " 'b',\n",
       " 'c',\n",
       " 'd',\n",
       " 'e',\n",
       " 'f',\n",
       " '_',\n",
       " '1',\n",
       " '2',\n",
       " '3',\n",
       " '4',\n",
       " '5',\n",
       " '0']"
      ]
     },
     "execution_count": 55,
     "metadata": {},
     "output_type": "execute_result"
    }
   ],
   "source": [
    "string = 'ABCDEFabcdef_123450&%@#!'\n",
    "\n",
    "re.findall('\\w',string)"
   ]
  },
  {
   "cell_type": "code",
   "execution_count": 56,
   "metadata": {
    "colab": {
     "base_uri": "https://localhost:8080/"
    },
    "id": "i2p6fEjt3JbU",
    "outputId": "46594ebe-d43a-4e3d-d778-7e9dad37b8db"
   },
   "outputs": [
    {
     "data": {
      "text/plain": [
       "['[codigo]']"
      ]
     },
     "execution_count": 56,
     "metadata": {},
     "output_type": "execute_result"
    }
   ],
   "source": [
    "string = '[codigo] titulo'\n",
    "\n",
    "re.findall(\"\\[.*\\]\", string)"
   ]
  },
  {
   "cell_type": "code",
   "execution_count": 57,
   "metadata": {
    "colab": {
     "base_uri": "https://localhost:8080/"
    },
    "id": "4CVCZ0eP39r3",
    "outputId": "f444ef4f-ab46-4e32-ce58-adc83b3b8517"
   },
   "outputs": [
    {
     "data": {
      "text/plain": [
       "['codigo']"
      ]
     },
     "execution_count": 57,
     "metadata": {},
     "output_type": "execute_result"
    }
   ],
   "source": [
    "string = '[codigo] titulo'\n",
    "\n",
    "re.findall(\"\\[(.*)\\]\", string)"
   ]
  },
  {
   "cell_type": "markdown",
   "metadata": {
    "id": "fkFfQ01H0rgc"
   },
   "source": [
    "## Bônus"
   ]
  },
  {
   "cell_type": "code",
   "execution_count": 58,
   "metadata": {
    "id": "Ub12cT3g4WKz"
   },
   "outputs": [],
   "source": [
    "data = \"28/11/2020\""
   ]
  },
  {
   "cell_type": "code",
   "execution_count": 59,
   "metadata": {
    "colab": {
     "base_uri": "https://localhost:8080/",
     "height": 35
    },
    "id": "I9_qYN1s4RIr",
    "outputId": "83609b38-0db9-4f77-fd8b-90b0200cd8cf"
   },
   "outputs": [
    {
     "data": {
      "text/plain": [
       "'2020-11-28'"
      ]
     },
     "execution_count": 59,
     "metadata": {},
     "output_type": "execute_result"
    }
   ],
   "source": [
    "re.sub(r\"(..)/(..)/(....)\",r\"\\3-\\2-\\1\", data)"
   ]
  },
  {
   "cell_type": "code",
   "execution_count": 60,
   "metadata": {
    "id": "PwTS0Dxm4UuR"
   },
   "outputs": [
    {
     "data": {
      "text/plain": [
       "['P', 'C', 'S', 'O', 'C', 'B']"
      ]
     },
     "execution_count": 60,
     "metadata": {},
     "output_type": "execute_result"
    }
   ],
   "source": [
    "nome = \"Paula Cristina dos Santos Oliveira Cordeiro Basilone\"\n",
    "re.findall(r'[A-Z]', nome)\n"
   ]
  },
  {
   "cell_type": "code",
   "execution_count": 61,
   "metadata": {},
   "outputs": [
    {
     "data": {
      "text/plain": [
       "['a',\n",
       " 'u',\n",
       " 'l',\n",
       " 'a',\n",
       " 'r',\n",
       " 'i',\n",
       " 's',\n",
       " 't',\n",
       " 'i',\n",
       " 'n',\n",
       " 'a',\n",
       " 'd',\n",
       " 'o',\n",
       " 's',\n",
       " 'a',\n",
       " 'n',\n",
       " 't',\n",
       " 'o',\n",
       " 's',\n",
       " 'l',\n",
       " 'i',\n",
       " 'v',\n",
       " 'e',\n",
       " 'i',\n",
       " 'r',\n",
       " 'a',\n",
       " 'o',\n",
       " 'r',\n",
       " 'd',\n",
       " 'e',\n",
       " 'i',\n",
       " 'r',\n",
       " 'o',\n",
       " 'a',\n",
       " 's',\n",
       " 'i',\n",
       " 'l',\n",
       " 'o',\n",
       " 'n',\n",
       " 'e']"
      ]
     },
     "execution_count": 61,
     "metadata": {},
     "output_type": "execute_result"
    }
   ],
   "source": [
    "re.findall(r'[a-z]', nome)"
   ]
  },
  {
   "cell_type": "code",
   "execution_count": 62,
   "metadata": {},
   "outputs": [
    {
     "data": {
      "text/plain": [
       "['P',\n",
       " 'a',\n",
       " 'u',\n",
       " 'l',\n",
       " 'a',\n",
       " 'C',\n",
       " 'r',\n",
       " 'i',\n",
       " 's',\n",
       " 't',\n",
       " 'i',\n",
       " 'n',\n",
       " 'a',\n",
       " 'd',\n",
       " 'o',\n",
       " 's',\n",
       " 'S',\n",
       " 'a',\n",
       " 'n',\n",
       " 't',\n",
       " 'o',\n",
       " 's',\n",
       " 'O',\n",
       " 'l',\n",
       " 'i',\n",
       " 'v',\n",
       " 'e',\n",
       " 'i',\n",
       " 'r',\n",
       " 'a',\n",
       " 'C',\n",
       " 'o',\n",
       " 'r',\n",
       " 'd',\n",
       " 'e',\n",
       " 'i',\n",
       " 'r',\n",
       " 'o',\n",
       " 'B',\n",
       " 'a',\n",
       " 's',\n",
       " 'i',\n",
       " 'l',\n",
       " 'o',\n",
       " 'n',\n",
       " 'e']"
      ]
     },
     "execution_count": 62,
     "metadata": {},
     "output_type": "execute_result"
    }
   ],
   "source": [
    "re.findall(r'[a-zA-z]', nome)"
   ]
  },
  {
   "cell_type": "code",
   "execution_count": 63,
   "metadata": {},
   "outputs": [
    {
     "name": "stdout",
     "output_type": "stream",
     "text": [
      "Collecting unidecode\n",
      "  Downloading Unidecode-1.3.2-py3-none-any.whl (235 kB)\n",
      "\u001b[K     |████████████████████████████████| 235 kB 1.9 MB/s eta 0:00:01\n",
      "\u001b[?25hInstalling collected packages: unidecode\n",
      "Successfully installed unidecode-1.3.2\n"
     ]
    }
   ],
   "source": [
    "!pip install unidecode"
   ]
  },
  {
   "cell_type": "code",
   "execution_count": 97,
   "metadata": {},
   "outputs": [],
   "source": [
    "\n",
    "from unidecode import unidecode\n",
    "palavra = 'Jéssica Avãlar'\n",
    "sem_acento = unidecode(palavra)\n",
    "#sem_acento = [unidecode(palavra) for palavra in sem_pontuacao]"
   ]
  },
  {
   "cell_type": "code",
   "execution_count": 98,
   "metadata": {},
   "outputs": [
    {
     "data": {
      "text/plain": [
       "'Jessica Avalar'"
      ]
     },
     "execution_count": 98,
     "metadata": {},
     "output_type": "execute_result"
    }
   ],
   "source": [
    "sem_acento"
   ]
  },
  {
   "cell_type": "code",
   "execution_count": null,
   "metadata": {},
   "outputs": [],
   "source": []
  }
 ],
 "metadata": {
  "colab": {
   "authorship_tag": "ABX9TyMJnvPepedFJeE3U0dy9K8L",
   "name": "regex_básico.ipynb",
   "provenance": []
  },
  "kernelspec": {
   "display_name": "Python 3",
   "language": "python",
   "name": "python3"
  },
  "language_info": {
   "codemirror_mode": {
    "name": "ipython",
    "version": 3
   },
   "file_extension": ".py",
   "mimetype": "text/x-python",
   "name": "python",
   "nbconvert_exporter": "python",
   "pygments_lexer": "ipython3",
   "version": "3.8.12"
  }
 },
 "nbformat": 4,
 "nbformat_minor": 1
}
