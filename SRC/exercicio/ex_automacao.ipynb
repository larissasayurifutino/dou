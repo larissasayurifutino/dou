{
 "cells": [
  {
   "cell_type": "code",
   "execution_count": 1,
   "id": "f2d39fca",
   "metadata": {},
   "outputs": [
    {
     "name": "stdout",
     "output_type": "stream",
     "text": [
      "Requirement already satisfied: bs4 in /home/larissa/anaconda3/envs/diario-uniao/lib/python3.8/site-packages (0.0.1)\n",
      "Requirement already satisfied: beautifulsoup4 in /home/larissa/anaconda3/envs/diario-uniao/lib/python3.8/site-packages (from bs4) (4.10.0)\n",
      "Requirement already satisfied: soupsieve>1.2 in /home/larissa/anaconda3/envs/diario-uniao/lib/python3.8/site-packages (from beautifulsoup4->bs4) (2.3.1)\n",
      "Requirement already satisfied: requests in /home/larissa/anaconda3/envs/diario-uniao/lib/python3.8/site-packages (2.23.0)\n",
      "Requirement already satisfied: idna<3,>=2.5 in /home/larissa/anaconda3/envs/diario-uniao/lib/python3.8/site-packages (from requests) (2.10)\n",
      "Requirement already satisfied: chardet<4,>=3.0.2 in /home/larissa/anaconda3/envs/diario-uniao/lib/python3.8/site-packages (from requests) (3.0.4)\n",
      "Requirement already satisfied: urllib3!=1.25.0,!=1.25.1,<1.26,>=1.21.1 in /home/larissa/anaconda3/envs/diario-uniao/lib/python3.8/site-packages (from requests) (1.25.11)\n",
      "Requirement already satisfied: certifi>=2017.4.17 in /home/larissa/anaconda3/envs/diario-uniao/lib/python3.8/site-packages (from requests) (2021.10.8)\n"
     ]
    }
   ],
   "source": [
    "!pip install bs4\n",
    "!pip install requests"
   ]
  },
  {
   "cell_type": "code",
   "execution_count": 2,
   "id": "5bdd3581",
   "metadata": {},
   "outputs": [],
   "source": [
    "import pandas as pd\n",
    "import re"
   ]
  },
  {
   "cell_type": "code",
   "execution_count": 3,
   "id": "e91d951f",
   "metadata": {},
   "outputs": [],
   "source": [
    "df = pd.read_json('result.json')"
   ]
  },
  {
   "cell_type": "code",
   "execution_count": 4,
   "id": "877af7c7",
   "metadata": {},
   "outputs": [
    {
     "data": {
      "text/html": [
       "<div>\n",
       "<style scoped>\n",
       "    .dataframe tbody tr th:only-of-type {\n",
       "        vertical-align: middle;\n",
       "    }\n",
       "\n",
       "    .dataframe tbody tr th {\n",
       "        vertical-align: top;\n",
       "    }\n",
       "\n",
       "    .dataframe thead th {\n",
       "        text-align: right;\n",
       "    }\n",
       "</style>\n",
       "<table border=\"1\" class=\"dataframe\">\n",
       "  <thead>\n",
       "    <tr style=\"text-align: right;\">\n",
       "      <th></th>\n",
       "      <th>numberPage</th>\n",
       "      <th>artType</th>\n",
       "      <th>title</th>\n",
       "      <th>paragraphs</th>\n",
       "      <th>url</th>\n",
       "    </tr>\n",
       "  </thead>\n",
       "  <tbody>\n",
       "    <tr>\n",
       "      <th>14</th>\n",
       "      <td>8</td>\n",
       "      <td>Ministério da Ciência, Tecnologia e Inovações/...</td>\n",
       "      <td>PORTARIA SEMPI/MCTI Nº 5.480, DE 30 DE Dezembr...</td>\n",
       "      <td>O SECRETÁRIO DE EMPREENDEDORISMO E INOVAÇÃO DO...</td>\n",
       "      <td>https://www.in.gov.br/en/web/dou/-/portaria-se...</td>\n",
       "    </tr>\n",
       "  </tbody>\n",
       "</table>\n",
       "</div>"
      ],
      "text/plain": [
       "    numberPage                                            artType  \\\n",
       "14           8  Ministério da Ciência, Tecnologia e Inovações/...   \n",
       "\n",
       "                                                title  \\\n",
       "14  PORTARIA SEMPI/MCTI Nº 5.480, DE 30 DE Dezembr...   \n",
       "\n",
       "                                           paragraphs  \\\n",
       "14  O SECRETÁRIO DE EMPREENDEDORISMO E INOVAÇÃO DO...   \n",
       "\n",
       "                                                  url  \n",
       "14  https://www.in.gov.br/en/web/dou/-/portaria-se...  "
      ]
     },
     "execution_count": 4,
     "metadata": {},
     "output_type": "execute_result"
    }
   ],
   "source": [
    "# Pegar a entrada que tem o termo 'MELHORETEC'\n",
    "melhoretec = df[df['paragraphs'].str.contains('MELHORETEC')]\n",
    "melhoretec"
   ]
  },
  {
   "cell_type": "code",
   "execution_count": 5,
   "id": "1293cce9",
   "metadata": {},
   "outputs": [
    {
     "data": {
      "text/plain": [
       "'O SECRETÁRIO DE EMPREENDEDORISMO E INOVAÇÃO DO MINISTÉRIO DA CIÊNCIA, TECNOLOGIA E INOVAÇÕES SUBSTITUTO, no uso da atribuição conferida pelo parágrafo único do art. 6º do Decreto nº 10.356, de 20 de maio de 2020, tendo em vista o disposto nos arts. 4º e 9º deste Decreto, e considerando o que consta no Processo MCTI nº 01250.058099/2019-78, de 12 de novembro de 2019, resolve:\\nArt. 1º Habilitar a pessoa jurídica MELHORETEC TECNOLOGIA - VENDA E LOCACAO DE EQUIPAMENTOS LTDA., inscrita no Cadastro Nacional da Pessoa Jurídica do Ministério da Economia - CNPJ/ME sob o nº 23.238.356/0001-63, à fruição do crédito financeiro de que tratam o art. 4º da Lei nº 8.248, de 23 de outubro de 1991, os arts. 2º,\\xa03º\\xa0 e 4º da Lei nº 13.969, de 26 de dezembro de 2019, e o Decreto nº 10.356, de 20 de maio de 2020.\\n§ 1º Cadastrar o estabelecimento fabril da pessoa jurídica identificada no\\xa0caput, CNPJ/ME nº 23.238.356/0001-63, responsável pela fabricação do(s) seguinte(s) bem(ns) de tecnologias da informação e comunicação:\\nI - Terminal de autoatendimento para uso não bancário e\\nII -\\xa0Terminal de auto-atendimento para compra de mercadorias em estabelecimentos comerciais (\"self checkout\")\\n§ 2º O bem e os respectivos modelos devem cumprir o processo produtivo básico.\\n§ 3º Os modelos devem ser cadastrados pela pessoa jurídica e constar no processo MCTI nº 01250.058099/2019-78, de 12\\xa0de novembro\\xa0de 2019.\\nArt. 2º A pessoa jurídica habilitada fará jus ao crédito financeiro de que trata a Seção I do Capítulo V do Decreto nº 10.356, de 2020, que\\xa0vigorará até 31 de dezembro de 2029.\\nParágrafo único. A pessoa jurídica habilitada, além de cumprir o processo produtivo básico, deverá investir, anualmente, no País, em atividades de pesquisa, desenvolvimento e inovação, no setor de tecnologias da informação e comunicação, o percentual mínimo de 4% sobre a base de cálculo formada pelo faturamento bruto no mercado interno, decorrente da comercialização do(s) bem(ns) relacionado(s) no art. 1º.\\nArt. 3º O crédito financeiro decorrente dos benefícios referidos no art. 4º da Lei nº 8.248, de 1991, constitui, para todos os efeitos, compensação integral em substituição aos incentivos extintos pela revogação dos §§ 1º-A, 1º-D, 1º-E, 1º-F, 5º e 7º do art. 4º da referida Lei.\\nArt. 4º Em virtude da desistência nos autos do pleito de habilitação definitiva dos modelos do produto \"Facilit Express\",\\xa0\"Facilit Display\",\\xa0\"Ful\",\\xa0\"Organização de Fila\",\\xa0\"Informações; \"Pesquisa\",\\xa0\"Estacionamento\",\\xa0\"Pedidos\",\\xa0\"Restaurante\",\\xa0\"Bares\",\\xa0\"Eventos\",\\xa0\"Recepção\",\\xa0\"Machine Varejo\",\\xa0\"Machine Food Service\" e\\xa0\"Machine Refrigerado\"\\xa0que constavam da habilitação provisória concedida pela Portaria SDCI/ME nº 9.741, de 7 de\\xa0novembro de 2019, caso a empresa tenha usufruído de benefícios concedidos para esses modelos, deverá recolher, no\\xa0prazo de dez dias, os tributos relativos ao benefício fiscal fruído, com os acréscimos legais e penalidades aplicáveis para recolhimento espontâneo, assim como pagar o crédito financeiro ressarcido ou utilizado como objeto de compensação de débitos tributários, inclusive os juros e multas, na forma da lei.\\nArt. 5º Esta habilitação poderá ser suspensa ou cancelada, a qualquer tempo, sem prejuízo do\\xa0ressarcimento previsto no art. 9º da Lei nº 8.248, de 1991, no art. 9º da Lei nº 13.969, de 2019, e no Capítulo VI do Decreto nº 10.356, de 2020, caso a empresa beneficiária deixe de atender ou de cumprir qualquer das condições estabelecidas no referido Decreto.\\nArt. 6º Esta Portaria entra em vigor na data de sua publicação.'"
      ]
     },
     "execution_count": 5,
     "metadata": {},
     "output_type": "execute_result"
    }
   ],
   "source": [
    "#Coluna paragrafo em um objeto separado\n",
    "df_ = melhoretec['paragraphs'].iloc[0]\n",
    "df_"
   ]
  },
  {
   "cell_type": "code",
   "execution_count": 6,
   "id": "3a9ae4ba",
   "metadata": {},
   "outputs": [
    {
     "data": {
      "text/plain": [
       "'O SECRETÁRIO DE EMPREENDEDORISMO E INOVAÇÃO DO MINISTÉRIO DA CIÊNCIA, TECNOLOGIA E INOVAÇÕES SUBSTITUTO, no uso da atribuição conferida pelo parágrafo único do art. 6º do Decreto nº 10.356, de 20 de maio de 2020, tendo em vista o disposto nos arts. 4º e 9º deste Decreto, e considerando o que consta no Processo MCTI nº 01250.058099/2019-78, de 12 de novembro de 2019, resolve:\\nArt. 1º Habilitar a pessoa jurídica MELHORETEC TECNOLOGIA - VENDA E LOCACAO DE EQUIPAMENTOS LTDA., inscrita no Cadastro Nacional da Pessoa Jurídica do Ministério da Economia - CNPJ/ME sob o nº 23.238.356/0001-63, à fruição do crédito financeiro de que tratam o art. 4º da Lei nº 8.248, de 23 de outubro de 1991, os arts. 2º, 3º  e 4º da Lei nº 13.969, de 26 de dezembro de 2019, e o Decreto nº 10.356, de 20 de maio de 2020.\\n§ 1º Cadastrar o estabelecimento fabril da pessoa jurídica identificada no caput, CNPJ/ME nº 23.238.356/0001-63, responsável pela fabricação do(s) seguinte(s) bem(ns) de tecnologias da informação e comunicação:\\nI - Terminal de autoatendimento para uso não bancário e\\nII - Terminal de auto-atendimento para compra de mercadorias em estabelecimentos comerciais (\"self checkout\")\\n§ 2º O bem e os respectivos modelos devem cumprir o processo produtivo básico.\\n§ 3º Os modelos devem ser cadastrados pela pessoa jurídica e constar no processo MCTI nº 01250.058099/2019-78, de 12 de novembro de 2019.\\nArt. 2º A pessoa jurídica habilitada fará jus ao crédito financeiro de que trata a Seção I do Capítulo V do Decreto nº 10.356, de 2020, que vigorará até 31 de dezembro de 2029.\\nParágrafo único. A pessoa jurídica habilitada, além de cumprir o processo produtivo básico, deverá investir, anualmente, no País, em atividades de pesquisa, desenvolvimento e inovação, no setor de tecnologias da informação e comunicação, o percentual mínimo de 4% sobre a base de cálculo formada pelo faturamento bruto no mercado interno, decorrente da comercialização do(s) bem(ns) relacionado(s) no art. 1º.\\nArt. 3º O crédito financeiro decorrente dos benefícios referidos no art. 4º da Lei nº 8.248, de 1991, constitui, para todos os efeitos, compensação integral em substituição aos incentivos extintos pela revogação dos §§ 1º-A, 1º-D, 1º-E, 1º-F, 5º e 7º do art. 4º da referida Lei.\\nArt. 4º Em virtude da desistência nos autos do pleito de habilitação definitiva dos modelos do produto \"Facilit Express\", \"Facilit Display\", \"Ful\", \"Organização de Fila\", \"Informações; \"Pesquisa\", \"Estacionamento\", \"Pedidos\", \"Restaurante\", \"Bares\", \"Eventos\", \"Recepção\", \"Machine Varejo\", \"Machine Food Service\" e \"Machine Refrigerado\" que constavam da habilitação provisória concedida pela Portaria SDCI/ME nº 9.741, de 7 de novembro de 2019, caso a empresa tenha usufruído de benefícios concedidos para esses modelos, deverá recolher, no prazo de dez dias, os tributos relativos ao benefício fiscal fruído, com os acréscimos legais e penalidades aplicáveis para recolhimento espontâneo, assim como pagar o crédito financeiro ressarcido ou utilizado como objeto de compensação de débitos tributários, inclusive os juros e multas, na forma da lei.\\nArt. 5º Esta habilitação poderá ser suspensa ou cancelada, a qualquer tempo, sem prejuízo do ressarcimento previsto no art. 9º da Lei nº 8.248, de 1991, no art. 9º da Lei nº 13.969, de 2019, e no Capítulo VI do Decreto nº 10.356, de 2020, caso a empresa beneficiária deixe de atender ou de cumprir qualquer das condições estabelecidas no referido Decreto.\\nArt. 6º Esta Portaria entra em vigor na data de sua publicação.'"
      ]
     },
     "execution_count": 6,
     "metadata": {},
     "output_type": "execute_result"
    }
   ],
   "source": [
    "# Tirar '\\xa0'\n",
    "df_ = re.sub(pattern = '\\xa0', repl = ' ', string = df_)\n",
    "df_"
   ]
  },
  {
   "cell_type": "code",
   "execution_count": 7,
   "id": "12afca83",
   "metadata": {},
   "outputs": [
    {
     "data": {
      "text/plain": [
       "'O SECRETARIO DE EMPREENDEDORISMO E INOVACAO DO MINISTERIO DA CIENCIA, TECNOLOGIA E INOVACOES SUBSTITUTO, no uso da atribuicao conferida pelo paragrafo unico do art. 6o do Decreto no 10.356, de 20 de maio de 2020, tendo em vista o disposto nos arts. 4o e 9o deste Decreto, e considerando o que consta no Processo MCTI no 01250.058099/2019-78, de 12 de novembro de 2019, resolve:\\nArt. 1o Habilitar a pessoa juridica MELHORETEC TECNOLOGIA - VENDA E LOCACAO DE EQUIPAMENTOS LTDA., inscrita no Cadastro Nacional da Pessoa Juridica do Ministerio da Economia - CNPJ/ME sob o no 23.238.356/0001-63, a fruicao do credito financeiro de que tratam o art. 4o da Lei no 8.248, de 23 de outubro de 1991, os arts. 2o, 3o  e 4o da Lei no 13.969, de 26 de dezembro de 2019, e o Decreto no 10.356, de 20 de maio de 2020.\\nSS 1o Cadastrar o estabelecimento fabril da pessoa juridica identificada no caput, CNPJ/ME no 23.238.356/0001-63, responsavel pela fabricacao do(s) seguinte(s) bem(ns) de tecnologias da informacao e comunicacao:\\nI - Terminal de autoatendimento para uso nao bancario e\\nII - Terminal de auto-atendimento para compra de mercadorias em estabelecimentos comerciais (\"self checkout\")\\nSS 2o O bem e os respectivos modelos devem cumprir o processo produtivo basico.\\nSS 3o Os modelos devem ser cadastrados pela pessoa juridica e constar no processo MCTI no 01250.058099/2019-78, de 12 de novembro de 2019.\\nArt. 2o A pessoa juridica habilitada fara jus ao credito financeiro de que trata a Secao I do Capitulo V do Decreto no 10.356, de 2020, que vigorara ate 31 de dezembro de 2029.\\nParagrafo unico. A pessoa juridica habilitada, alem de cumprir o processo produtivo basico, devera investir, anualmente, no Pais, em atividades de pesquisa, desenvolvimento e inovacao, no setor de tecnologias da informacao e comunicacao, o percentual minimo de 4% sobre a base de calculo formada pelo faturamento bruto no mercado interno, decorrente da comercializacao do(s) bem(ns) relacionado(s) no art. 1o.\\nArt. 3o O credito financeiro decorrente dos beneficios referidos no art. 4o da Lei no 8.248, de 1991, constitui, para todos os efeitos, compensacao integral em substituicao aos incentivos extintos pela revogacao dos SSSS 1o-A, 1o-D, 1o-E, 1o-F, 5o e 7o do art. 4o da referida Lei.\\nArt. 4o Em virtude da desistencia nos autos do pleito de habilitacao definitiva dos modelos do produto \"Facilit Express\", \"Facilit Display\", \"Ful\", \"Organizacao de Fila\", \"Informacoes; \"Pesquisa\", \"Estacionamento\", \"Pedidos\", \"Restaurante\", \"Bares\", \"Eventos\", \"Recepcao\", \"Machine Varejo\", \"Machine Food Service\" e \"Machine Refrigerado\" que constavam da habilitacao provisoria concedida pela Portaria SDCI/ME no 9.741, de 7 de novembro de 2019, caso a empresa tenha usufruido de beneficios concedidos para esses modelos, devera recolher, no prazo de dez dias, os tributos relativos ao beneficio fiscal fruido, com os acrescimos legais e penalidades aplicaveis para recolhimento espontaneo, assim como pagar o credito financeiro ressarcido ou utilizado como objeto de compensacao de debitos tributarios, inclusive os juros e multas, na forma da lei.\\nArt. 5o Esta habilitacao podera ser suspensa ou cancelada, a qualquer tempo, sem prejuizo do ressarcimento previsto no art. 9o da Lei no 8.248, de 1991, no art. 9o da Lei no 13.969, de 2019, e no Capitulo VI do Decreto no 10.356, de 2020, caso a empresa beneficiaria deixe de atender ou de cumprir qualquer das condicoes estabelecidas no referido Decreto.\\nArt. 6o Esta Portaria entra em vigor na data de sua publicacao.'"
      ]
     },
     "execution_count": 7,
     "metadata": {},
     "output_type": "execute_result"
    }
   ],
   "source": [
    "# Remover os acentos\n",
    "from unidecode import unidecode\n",
    "sem_acento = unidecode(df_)\n",
    "sem_acento"
   ]
  },
  {
   "cell_type": "code",
   "execution_count": 10,
   "id": "3783608c",
   "metadata": {},
   "outputs": [
    {
     "data": {
      "text/plain": [
       "['O SECRETARIO DE EMPREENDEDORISMO E INOVACAO DO MINISTERIO DA CIENCIA, TECNOLOGIA E INOVACOES SUBSTITUTO, no uso da atribuicao conferida pelo paragrafo unico do art. 6o do Decreto no 10.356, de 20 de maio de 2020, tendo em vista o disposto nos arts. 4o e 9o deste Decreto, e considerando o que consta no Processo MCTI no 01250.058099/2019-78, de 12 de novembro de 2019, resolve:',\n",
       " 'Art. 1o Habilitar a pessoa juridica MELHORETEC TECNOLOGIA - VENDA E LOCACAO DE EQUIPAMENTOS LTDA., inscrita no Cadastro Nacional da Pessoa Juridica do Ministerio da Economia - CNPJ/ME sob o no 23.238.356/0001-63, a fruicao do credito financeiro de que tratam o art. 4o da Lei no 8.248, de 23 de outubro de 1991, os arts. 2o, 3o  e 4o da Lei no 13.969, de 26 de dezembro de 2019, e o Decreto no 10.356, de 20 de maio de 2020.',\n",
       " 'SS 1o Cadastrar o estabelecimento fabril da pessoa juridica identificada no caput, CNPJ/ME no 23.238.356/0001-63, responsavel pela fabricacao do(s) seguinte(s) bem(ns) de tecnologias da informacao e comunicacao:',\n",
       " 'I - Terminal de autoatendimento para uso nao bancario e',\n",
       " 'II - Terminal de auto-atendimento para compra de mercadorias em estabelecimentos comerciais (\"self checkout\")',\n",
       " 'SS 2o O bem e os respectivos modelos devem cumprir o processo produtivo basico.',\n",
       " 'SS 3o Os modelos devem ser cadastrados pela pessoa juridica e constar no processo MCTI no 01250.058099/2019-78, de 12 de novembro de 2019.',\n",
       " 'Art. 2o A pessoa juridica habilitada fara jus ao credito financeiro de que trata a Secao I do Capitulo V do Decreto no 10.356, de 2020, que vigorara ate 31 de dezembro de 2029.',\n",
       " 'Paragrafo unico. A pessoa juridica habilitada, alem de cumprir o processo produtivo basico, devera investir, anualmente, no Pais, em atividades de pesquisa, desenvolvimento e inovacao, no setor de tecnologias da informacao e comunicacao, o percentual minimo de 4% sobre a base de calculo formada pelo faturamento bruto no mercado interno, decorrente da comercializacao do(s) bem(ns) relacionado(s) no art. 1o.',\n",
       " 'Art. 3o O credito financeiro decorrente dos beneficios referidos no art. 4o da Lei no 8.248, de 1991, constitui, para todos os efeitos, compensacao integral em substituicao aos incentivos extintos pela revogacao dos SSSS 1o-A, 1o-D, 1o-E, 1o-F, 5o e 7o do art. 4o da referida Lei.',\n",
       " 'Art. 4o Em virtude da desistencia nos autos do pleito de habilitacao definitiva dos modelos do produto \"Facilit Express\", \"Facilit Display\", \"Ful\", \"Organizacao de Fila\", \"Informacoes; \"Pesquisa\", \"Estacionamento\", \"Pedidos\", \"Restaurante\", \"Bares\", \"Eventos\", \"Recepcao\", \"Machine Varejo\", \"Machine Food Service\" e \"Machine Refrigerado\" que constavam da habilitacao provisoria concedida pela Portaria SDCI/ME no 9.741, de 7 de novembro de 2019, caso a empresa tenha usufruido de beneficios concedidos para esses modelos, devera recolher, no prazo de dez dias, os tributos relativos ao beneficio fiscal fruido, com os acrescimos legais e penalidades aplicaveis para recolhimento espontaneo, assim como pagar o credito financeiro ressarcido ou utilizado como objeto de compensacao de debitos tributarios, inclusive os juros e multas, na forma da lei.',\n",
       " 'Art. 5o Esta habilitacao podera ser suspensa ou cancelada, a qualquer tempo, sem prejuizo do ressarcimento previsto no art. 9o da Lei no 8.248, de 1991, no art. 9o da Lei no 13.969, de 2019, e no Capitulo VI do Decreto no 10.356, de 2020, caso a empresa beneficiaria deixe de atender ou de cumprir qualquer das condicoes estabelecidas no referido Decreto.',\n",
       " 'Art. 6o Esta Portaria entra em vigor na data de sua publicacao.']"
      ]
     },
     "execution_count": 10,
     "metadata": {},
     "output_type": "execute_result"
    }
   ],
   "source": [
    "# Função para quebrar o texto por espaços\n",
    "def get_spaces(df_):\n",
    "    results = re.split(r\"\\n+\", df_)\n",
    "    return results\n",
    "\n",
    "df__ = get_spaces(sem_acento)\n",
    "df__"
   ]
  },
  {
   "cell_type": "code",
   "execution_count": 11,
   "id": "9baf6526",
   "metadata": {},
   "outputs": [],
   "source": [
    "# Função para extrair CNPJ\n",
    "def get_cnpj(text):\n",
    "    pattern = r\"\\d{2}\\.\\d{3}\\.\\d{3}/\\d{4}-\\d{2}\"\n",
    "    return re.findall(pattern, text)"
   ]
  },
  {
   "cell_type": "code",
   "execution_count": 12,
   "id": "f0178d6f",
   "metadata": {},
   "outputs": [
    {
     "data": {
      "text/plain": [
       "[]"
      ]
     },
     "execution_count": 12,
     "metadata": {},
     "output_type": "execute_result"
    }
   ],
   "source": [
    "get_cnpj(df__[0])"
   ]
  },
  {
   "cell_type": "code",
   "execution_count": 13,
   "id": "34583a7a",
   "metadata": {},
   "outputs": [],
   "source": [
    "# Pegando CNPJ\n",
    "cnpj = []\n",
    "\n",
    "for i in df__:\n",
    "    aux = get_cnpj(i)\n",
    "    if aux != '':\n",
    "        cnpj.append(aux)\n",
    "    "
   ]
  },
  {
   "cell_type": "code",
   "execution_count": 14,
   "id": "27798340",
   "metadata": {},
   "outputs": [],
   "source": [
    "#!pip install itertools"
   ]
  },
  {
   "cell_type": "code",
   "execution_count": 23,
   "id": "013eb905",
   "metadata": {},
   "outputs": [
    {
     "data": {
      "text/plain": [
       "'23.238.356/0001-63'"
      ]
     },
     "execution_count": 23,
     "metadata": {},
     "output_type": "execute_result"
    }
   ],
   "source": [
    "# Tirar lista de dentro de lista\n",
    "import itertools\n",
    "flat_list = itertools.chain(*cnpj)\n",
    "cnpj_melhoretec = set(list(flat_list))\n",
    "cnpj_melhoretec = \" \".join(map(str,cnpj_melhoretec))\n",
    "cnpj_melhoretec"
   ]
  },
  {
   "cell_type": "code",
   "execution_count": 24,
   "id": "ef319c54",
   "metadata": {},
   "outputs": [
    {
     "name": "stdout",
     "output_type": "stream",
     "text": [
      "Estamos consultando no google sobre MELHORETEC TECNOLOGIA - VENDA E LOCACAO DE EQUIPAMENTOS LTDA CNPJ 23.238.356/0001-63\n"
     ]
    }
   ],
   "source": [
    "print('Estamos consultando no google sobre: MELHORETEC TECNOLOGIA - VENDA E LOCACAO DE EQUIPAMENTOS LTDA - CNPJ ' + cnpj_melhoretec)"
   ]
  },
  {
   "cell_type": "code",
   "execution_count": 26,
   "id": "8eeba49d",
   "metadata": {},
   "outputs": [],
   "source": [
    "# Consultar no google e salvar página\n",
    "from bs4 import BeautifulSoup\n",
    "import requests, lxml\n",
    "\n",
    "headers = {\n",
    "    \"User-Agent\":\n",
    "    \"Mozilla/5.0 (Windows NT 10.0; Win64; x64) AppleWebKit/537.36 (KHTML, like Gecko) Chrome/70.0.3538.102 Safari/537.36 Edge/18.19582\"\n",
    "}\n",
    "\n",
    "text = 'MELHORETEC'\n",
    "url = 'https://google.com/search?q=' + text \n",
    "response = requests.get(url, headers = headers).text\n",
    "soup = BeautifulSoup(response, 'lxml')"
   ]
  },
  {
   "cell_type": "code",
   "execution_count": 27,
   "id": "efedc81e",
   "metadata": {},
   "outputs": [],
   "source": [
    "# Pegando os links\n",
    "link_list = []\n",
    "\n",
    "for links in soup.find_all('div', class_='yuRUbf'):\n",
    "    link = links.a['href']\n",
    "    link_list.append(link)"
   ]
  },
  {
   "cell_type": "code",
   "execution_count": 28,
   "id": "94cb6729",
   "metadata": {},
   "outputs": [],
   "source": [
    "# Pegando os títulos das materias\n",
    "tit_list = []\n",
    "\n",
    "for links in soup.find_all('div', class_='yuRUbf'):\n",
    "    tit = str(links.h3)\n",
    "    num_char = len(tit)\n",
    "    char_beg = len('<h3 class=\"LC20lb MBeuO DKV0Md\">')\n",
    "    char_end = num_char - len('</h3>')\n",
    "    tit_list.append(tit[char_beg:char_end])"
   ]
  },
  {
   "cell_type": "code",
   "execution_count": 29,
   "id": "915e2da7",
   "metadata": {},
   "outputs": [
    {
     "data": {
      "text/plain": [
       "array([['Melhoretec - Totens e gabinetes de autoatendimento',\n",
       "        'http://www.melhoretec.com.br/'],\n",
       "       ['Totem de Autoatendimento 32” Android - Melhoretec',\n",
       "        'https://www.magazineluiza.com.br/totem-de-autoatendimento-32-android-melhoretec/p/ah1h5e840b/pi/disa/'],\n",
       "       ['MelhoreTec | LinkedIn',\n",
       "        'https://br.linkedin.com/company/melhoretec'],\n",
       "       ['MelhoreTec - Home | Facebook',\n",
       "        'https://www.facebook.com/melhoretec/'],\n",
       "       ['MelhoreTec - Página inicial | Facebook',\n",
       "        'https://m.facebook.com/melhoretec/?locale2=pt_BR'],\n",
       "       ['Autoatendimento (@melhoretec) • Instagram photos and videos',\n",
       "        'https://www.instagram.com/melhoretec/'],\n",
       "       ['Melhoretec Tecnologia - Venda e Locacao de Equipamentos ...',\n",
       "        'http://cnpj.info/Melhoretec-Tecnologia-Venda-e-Locacao-de-Equipamentos'],\n",
       "       ['melhoretec tecnologia - venda e locacao de equipamentos ltda',\n",
       "        'https://consultacnpj.com/cnpj/melhoretec-tecnologia---venda-e-locacao-de-equipamentos-ltda--23238356000163'],\n",
       "       ['Melhoretec Tecnologia - Venda E ... - Transparência CC',\n",
       "        'https://transparencia.cc/dados/cnpj/23238356000163-SC-melhoretec-tecnologia-locacao-de-equipamentos-ltda/']],\n",
       "      dtype='<U106')"
      ]
     },
     "execution_count": 29,
     "metadata": {},
     "output_type": "execute_result"
    }
   ],
   "source": [
    "# Jeito 01: O link fica bom\n",
    "import numpy as np\n",
    "tit_link_array = np.column_stack((tit_list, link_list))\n",
    "tit_link_array"
   ]
  },
  {
   "cell_type": "code",
   "execution_count": 30,
   "id": "fa93260a",
   "metadata": {},
   "outputs": [
    {
     "data": {
      "text/html": [
       "<div>\n",
       "<style scoped>\n",
       "    .dataframe tbody tr th:only-of-type {\n",
       "        vertical-align: middle;\n",
       "    }\n",
       "\n",
       "    .dataframe tbody tr th {\n",
       "        vertical-align: top;\n",
       "    }\n",
       "\n",
       "    .dataframe thead th {\n",
       "        text-align: right;\n",
       "    }\n",
       "</style>\n",
       "<table border=\"1\" class=\"dataframe\">\n",
       "  <thead>\n",
       "    <tr style=\"text-align: right;\">\n",
       "      <th></th>\n",
       "      <th>titulo</th>\n",
       "      <th>link</th>\n",
       "    </tr>\n",
       "  </thead>\n",
       "  <tbody>\n",
       "    <tr>\n",
       "      <th>0</th>\n",
       "      <td>Melhoretec - Totens e gabinetes de autoatendim...</td>\n",
       "      <td>http://www.melhoretec.com.br/</td>\n",
       "    </tr>\n",
       "    <tr>\n",
       "      <th>1</th>\n",
       "      <td>Totem de Autoatendimento 32” Android - Melhoretec</td>\n",
       "      <td>https://www.magazineluiza.com.br/totem-de-auto...</td>\n",
       "    </tr>\n",
       "    <tr>\n",
       "      <th>2</th>\n",
       "      <td>MelhoreTec | LinkedIn</td>\n",
       "      <td>https://br.linkedin.com/company/melhoretec</td>\n",
       "    </tr>\n",
       "    <tr>\n",
       "      <th>3</th>\n",
       "      <td>MelhoreTec - Home | Facebook</td>\n",
       "      <td>https://www.facebook.com/melhoretec/</td>\n",
       "    </tr>\n",
       "    <tr>\n",
       "      <th>4</th>\n",
       "      <td>MelhoreTec - Página inicial | Facebook</td>\n",
       "      <td>https://m.facebook.com/melhoretec/?locale2=pt_BR</td>\n",
       "    </tr>\n",
       "    <tr>\n",
       "      <th>5</th>\n",
       "      <td>Autoatendimento (@melhoretec) • Instagram phot...</td>\n",
       "      <td>https://www.instagram.com/melhoretec/</td>\n",
       "    </tr>\n",
       "    <tr>\n",
       "      <th>6</th>\n",
       "      <td>Melhoretec Tecnologia - Venda e Locacao de Equ...</td>\n",
       "      <td>http://cnpj.info/Melhoretec-Tecnologia-Venda-e...</td>\n",
       "    </tr>\n",
       "    <tr>\n",
       "      <th>7</th>\n",
       "      <td>melhoretec tecnologia - venda e locacao de equ...</td>\n",
       "      <td>https://consultacnpj.com/cnpj/melhoretec-tecno...</td>\n",
       "    </tr>\n",
       "    <tr>\n",
       "      <th>8</th>\n",
       "      <td>Melhoretec Tecnologia - Venda E ... - Transpar...</td>\n",
       "      <td>https://transparencia.cc/dados/cnpj/2323835600...</td>\n",
       "    </tr>\n",
       "  </tbody>\n",
       "</table>\n",
       "</div>"
      ],
      "text/plain": [
       "                                              titulo  \\\n",
       "0  Melhoretec - Totens e gabinetes de autoatendim...   \n",
       "1  Totem de Autoatendimento 32” Android - Melhoretec   \n",
       "2                              MelhoreTec | LinkedIn   \n",
       "3                       MelhoreTec - Home | Facebook   \n",
       "4             MelhoreTec - Página inicial | Facebook   \n",
       "5  Autoatendimento (@melhoretec) • Instagram phot...   \n",
       "6  Melhoretec Tecnologia - Venda e Locacao de Equ...   \n",
       "7  melhoretec tecnologia - venda e locacao de equ...   \n",
       "8  Melhoretec Tecnologia - Venda E ... - Transpar...   \n",
       "\n",
       "                                                link  \n",
       "0                      http://www.melhoretec.com.br/  \n",
       "1  https://www.magazineluiza.com.br/totem-de-auto...  \n",
       "2         https://br.linkedin.com/company/melhoretec  \n",
       "3               https://www.facebook.com/melhoretec/  \n",
       "4   https://m.facebook.com/melhoretec/?locale2=pt_BR  \n",
       "5              https://www.instagram.com/melhoretec/  \n",
       "6  http://cnpj.info/Melhoretec-Tecnologia-Venda-e...  \n",
       "7  https://consultacnpj.com/cnpj/melhoretec-tecno...  \n",
       "8  https://transparencia.cc/dados/cnpj/2323835600...  "
      ]
     },
     "execution_count": 30,
     "metadata": {},
     "output_type": "execute_result"
    }
   ],
   "source": [
    "# Jeito 02: O link fica cortado\n",
    "\n",
    "tit_link_df = pd.DataFrame(\n",
    "    {'titulo': tit_list,\n",
    "     'link': link_list\n",
    "    })\n",
    "\n",
    "tit_link_df"
   ]
  }
 ],
 "metadata": {
  "kernelspec": {
   "display_name": "Python 3",
   "language": "python",
   "name": "python3"
  },
  "language_info": {
   "codemirror_mode": {
    "name": "ipython",
    "version": 3
   },
   "file_extension": ".py",
   "mimetype": "text/x-python",
   "name": "python",
   "nbconvert_exporter": "python",
   "pygments_lexer": "ipython3",
   "version": "3.8.12"
  }
 },
 "nbformat": 4,
 "nbformat_minor": 5
}
